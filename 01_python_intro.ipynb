{
 "cells": [
  {
   "cell_type": "markdown",
   "id": "cfd9c6b8-bcfd-4ebb-9a08-3015811e55d8",
   "metadata": {},
   "source": [
    "<b style=\"font-size: 34px; color: blue;\"> Master M1 SIC - Data Science for Digital Marketing </b>  \n",
    "\n",
    "<b style=\"font-size: 20px; color: blue;\"> Intervenant: David Thébault </b>  \n",
    "\n",
    "\n",
    "<b style=\"font-size: 34px; color: black;\"> Python </b> \n",
    "\n",
    "# Introduction au langage Python\n",
    "\n",
    "L'objectif de cette section est de:\n",
    "\n",
    "* Découvrir l'environnement de développement en Python pour la Data Science.\n",
    "* Se familiariser avec le language Python en ayant pris en main Jupyter Notebook\n",
    "\n",
    "\n",
    "Parmi les sources ayant contribuées à l'élaboration de cette section citons: \n",
    "* Scipy lecture notes [\"Getting started with Python for science\"](http://www.scipy-lectures.org/intro)  \n",
    "* Algorithmique et programmation en Python de Jean-Baptiste Civet et Boris Hanus.\n",
    "* Python pour le Data Scientist d'Emmanuel Jakobowicz.  \n",
    "* Google Gemini.  \n",
    "\n",
    "<b style=\"font-size: 10px;\">Ce document sera rédigé en français et en anglais. We apologize for the inconvenience.</b> \n",
    "\n",
    "## Python: qu'est ce que c'est ?\n",
    "\n",
    "Python est un langage de programmation créé en 1991 par Guido van Rossum: \"J'ai choisi Python comme nom pour ce projet car j'étais dans une humeur plutôt provocatrice et aussi car j'adore le Monty Python's flying Circus\".  Python est un langage de programmation interprété (par opposition au langage \"compilé\") cela signifie qu'un exécutable autonome n'est pas produit. Une fois le code rédigé, il est nécessaire d'avoir en permanence un interpréteur Python à disposition.\n",
    "\n",
    "\n",
    "<div style=\"width: 80%; padding: .5em 1.5em;\n",
    "            margin: .5em 2em .5em 2em;\n",
    "            border-radius: 12pt; border-color: black; \n",
    "            border-style: solid;\">\n",
    "<b style=\"font-variant: small-caps; text-decoration: underline;\">Langage Interprété (en savoir plus):</b><br>\n",
    "    Python est un langage interprété, c'est à dire qu'il se compose d'un langage et d'un interpréteur.\n",
    "    La principale différence avec les langages compilés est que la suite des instructions qui va être exécutée par le programme n'est pas connue quand celui-ci est lancé. Seules les différentes règles qui peuvent être appliquées sont connues.\n",
    "    Le langage de programmation définit cet ensemble de régles et c'est ce que l'on appelle communément le langage Python (c'est ce qu'on va apprendre ici!).<br>\n",
    "    Il existe ensuite différents interpréteurs qui prennent ces instructions pour modifier l'état interne (comprendre les variables) du programme:\n",
    "    <ul>\n",
    "        <li> <a href=https://python.org>CPython</a>: l'interpréteur standard de Python. Écrit en C, c'est l'interpreteur de base que vous utiliserez le plus souvent.</li>\n",
    "        <li> <a href=https://jython.org/>Jython</a>: un interpréteur écrit en Java qui permet une interaction simple avec du code Java.</li>\n",
    "        <li> <a href=https://ironpython.net/>IronPython</a>: un interpréteur intégré avec  le FRamework .Net  (travail dans  le navigateur).</li>\n",
    "        <li> <a href=https://micropython.org/>microPython</a>: un interpréteur dédié au calcul embarqué, avec une optimisation drastique de la mémoire.</li>\n",
    "        <li> ....</li>\n",
    "    </ul>\n",
    "</div>\n",
    "\n",
    "C'est un langage libre (_open source_), développé par une large communauté d'utilisateurs.\n",
    "Il est **multi-plates-formes**. Ainsi, le script peut être écrit sur un type de machine et utilisé sur un autre.  \n",
    "\n",
    "Le langage python possède ses mots réservés et impose une manière de présenter le code. Cette présentation du code python, notamment par `indentation`, permet visuellement d'identifier les différents éléments de langage comme les structures de boucles ou de conditions.  \n",
    "\n",
    "Python est un langage de **programmation orienté objet (POO)** car les structures utilisées en Python sont en fait toutes des objets avec des `propriétés` (les caractéristiques de l'objet) et des `méthodes` (ce sont des fonctions qui s'appliquent sur l'objet). En Python tout est objet: les variables, les fonctions et toutes structures sont des _Python Object_. Cela permet une grande souplesse.  \n",
    "Par exemple (nous le verrons plus en détail) la chaîne de caractére chaine = \"Python\" est un objet de classe _str_. Ses propriétés et méthodes peuvent être identifiées en utlisant le point aprpès le nom de l'objet (+ tab en IPython) toutes les propriétés et méthodes apparaissent (ex: chaine.upper()).  \n",
    "\n",
    "Python est un **langage de haut niveau** est langage qui se rapproche le plus possible du langage naturel, c'est à dire qu'il se lit \"comme il s'applique\".  \n",
    "\n",
    "Python facilite le travail du programmateur en **encapsulant** un certain nombre de méthodes liées par exemple à un type de structure de données. Par exemple, quand on créé une liste (nous verrons comment plus tard), Python met automatiquement à disposition des instructions pour modifier les données. Il s'agit de `méthodes` supplémentaires et non de fonctions.\n",
    "\n",
    "Python permet ainsi de limiter l'utilisation de variables intermédiaires et la compréhension du code pour ses utilisateurs n'en est que facilitée. Cela est davantage renforcé avec l'utilisation de fonctions que nous verrons par la suite et qui permettent de passer des valeurs en entrée et d'en récupérer en sortie. Cela allège considérablement la rédaction du code sans compliqué la compréhension.  \n",
    "\n",
    "<b>Le succès de Python en chiffres!  </b>\n",
    "\n",
    "* Enquête JetBrains 2023  \n",
    "Menée auprès de 26 348 développeurs du monde entier et a recueilli des données sur une variété de sujets, notamment les langages de programmation, les outils de développement, les frameworks, les technologies émergentes et les tendances du développement logiciel.  \n",
    "https://www.jetbrains.com/lp/devecosystem-2023/  \n",
    "* Article publié le 9 novembre 2020 par Vincent Poulailleau  \n",
    "https://www.lecalamar.fr/posts/2020-11-09-python-le-deuxieme-langage-le-plus-utilise/\n",
    "\n",
    "Pour résumer, le succès de Python tient particulièrement en quatre points:\n",
    "* **Simplicité et flexibilité:** le langage est simple à comprendre (à lire) et la librairie standard propose de nombreuses fonctionalités par défault. \n",
    "* **Des librairies spécialisées:** Il existe une multitude de modules spécialisés, que l'on peut voir comme des extensions du langage Python pour réaliser certaines tâches:\n",
    "    - `Django`: framwork de developpement web.\n",
    "    - `Numpy`: Numerical Python, librairie d'algébre linéaire.\n",
    "    - `Tensorflow/Pytorch`: librairie dédiée aux Réseaux de Neurones.\n",
    "    - `PyTest`: librairie liée au test unitaire en python.\n",
    "    - ....\n",
    "    \n",
    "  Ces librairies sont réunies dans 2 principaux gestionnaires de packets: `pip` et `conda`, tout comme `CRAN` réunit les librairies `R` disponibles.\n",
    "* **Une facilité d'extension:** Il est en général assez simple d'utiliser/d'appeler un autre langage dans un programme Python, par exemple `R` avec `rpy2`.\n",
    "* **Un langage interprété:** Tout comme `R`, c'est un langage qui permet le developpement interactif.\n",
    "\n",
    "En cela, `Python` et `R` sont très proches et les concepts de l'un sont facilement transposable à l'autre, mais contrairement à `R`, `Python` est  entièrement conçu en langage objet.\n",
    "\n",
    "## L'environnement de développement en Python\n",
    "\n",
    "\n",
    "\n",
    "### `Anaconda`\n",
    "\n",
    "#### Description\n",
    "\n",
    "[Anaconda](https://www.continuum.io/downloads) est une distribution Python qui inclut de nombreux packages python pour la programmation scientifique. C'est une façon pratique pour installer et mettre en place son environnement de travail sous n'importe quel système d'exploitation.\n",
    "\n",
    "Anaconda contient divers outils utiles pour `Python`. Nous nous servirons de:\n",
    "\n",
    "* `Anaconda Navigator`: Interface graphique pour lancer les différents programmes de Anaconda et installer des librairies supplémentaires.\n",
    "* `Anaconda Prompt`: Console pour faire de même en ligne de commande.\n",
    "* `Jupyter Notebook`: Interface graphique dans le navitageur web pour écrire et exécuter du code `Python`. Ce système de développement est basé sur deux outils:\n",
    "      - un navigateur web dans lequel vous verrez votre code s'afficher et dans lequel vous développerez et soumettrez votre code\n",
    "      - un noyau Python qui tourne dans un terminal (à laisser ouvert!) sur votre machine. Il vous permettra de soumettre le code entré dans le notebook.\n",
    "  D'un point de vue technique, le notebook est stocké sous forme d'un fichier du type JSON avec une extension *.ipynb provenant de l'ancien nom IPython notebook. Le nom Jupyter vient de la combinaison des 3 programmes: Julia, Python et R.\n",
    "* `Spyder`: Un éditeur intégré, similaire à `Rstudio` ou `Matlab`.\n",
    "\n",
    "Lancez Anaconda Navigator (en cherchant dans la barre de recherche de programmes si nécéssaire) et vérifiez que vous arrivez à ouvrir un notebook jupyter, comme indiqué [ici](https://docs.anaconda.com/anaconda/user-guide/getting-started/#run-python-in-a-jupyter-notebook). Vous pouvez aussi taper dans une fenêtre de commande `anaconda-navigator`.\n",
    " \n",
    "\n",
    "#### Installation\n",
    "\n",
    "Pour l'installer:\n",
    "\n",
    "1. Aller sur le site d'anaconda: [Downloads](https://www.anaconda.com/products/individual#Downloads). Pas besoin de s'enregistrer.\n",
    "\n",
    "![\"Image Description\"](Anaconda.png)\n",
    "\n",
    "2. Télécharger la version Graphic Installer `Python 3.11` adaptée à votre ordinateur (OS et architecture).\n",
    "3. Une fois le setup téléchargé, l'exécuter et accepter tous les paramètres par défaut.\n",
    "\n",
    "\n",
    "#### Désinstallation (sous Mac OS)\n",
    "\n",
    "Pour désinstaller Anaconda3  \n",
    "1. installer anaconda clean: `conda install anaconda-clean`\n",
    "2. lancer le nettoyage d'Anaconda: `anaconda-clean --yes`\n",
    "3. supprimer le répertoire Anaconda3: `sudo rm -rf /opt/anaconda3`\n",
    "4. supprimer l'application Anaconda.app: aller dans les applications via Finder puis supprimer\n",
    "5. désinstaller anaconda-clean: `conda uninstall anaconda-clean` \n",
    "\n",
    "\n",
    "\n",
    "### `Google colab`\n",
    "\n",
    "#### Description\n",
    "\n",
    "Google Colab (Google Colaboratory), est un environnement de notebook Jupyter basé sur le cloud, hébergé par Google. Il permet aux utilisateurs d'exécuter du code Python dans le navigateur, sans avoir à installer de logiciel.\n",
    "\n",
    "#### Installation\n",
    "\n",
    "Pour accéder à Google Colab, il suffit de disposer d'un compte Google et de se rendre sur l'URL [Google Colaboratory](https://colab.research.google.com) et de se connecter à son compte Google si vous n'êtes pas déjà connecté. \n",
    "\n",
    "![\"Image Description\"](Google_colab.png)\n",
    "\n",
    "\n",
    "\n",
    "### `VS Code`\n",
    "\n",
    "#### Description\n",
    "\n",
    "VS Code est un éditeur de code gratuit et open source développé par Microsoft. Il est disponible sur Windows, macOS et Linux et prend en charge un large éventail de langages de programmation, notamment Python, Java, JavaScript, C++, C#, PHP, etc.\n",
    "\n",
    "#### Installation\n",
    "\n",
    "Pour installer VS Code, rendez-vous sur le site web de [VS Code](https://code.visualstudio.com/download) et téléchargez le programme d'installation correspondant à votre système d'exploitation.\n",
    "\n",
    "\n",
    "#### Jupyter Notebook avec VS Code\n",
    "\n",
    "Pour travailler sur Jupyter Notebook avec VS Code, installez l'extension `Jupyter Notebook`. Pour cela, ouvrez VS Code et recherchez l'extension **Jupyter Notebook** dans la barre de recherche. Une fois l'extension trouvée, cliquez sur **Installer**.\n",
    "L'extension Jupyter Notebook fournit un certain nombre de fonctionnalités pour travailler sur Jupyter Notebook, notamment :\n",
    "* Une coloration syntaxique pour le code Python\n",
    "* Une complétion automatique intelligente pour le code Python\n",
    "* Un débogueur intégré pour le code Python\n",
    "* La possibilité de lancer des cellules Jupyter dans un terminal\n",
    "\n",
    "Une fois l'extension installée, vous pouvez ouvrir un fichier Jupyter Notebook en double-cliquant dessus ou en le sélectionnant dans l'explorateur de fichiers. VS Code ouvrira le fichier dans un nouvel onglet.\n",
    "\n",
    "Voici quelques extensions à installer avec VS Code pour travailler sur Python Jupyter Notebook :\n",
    "\n",
    "* `Jupyter` : fournit une prise en charge native des notebooks Jupyter dans VS Code.\n",
    "* `Python Extension Pack` : regroupe plusieurs extensions utiles pour le développement Python, notamment **Python**, **Python Docstring Generator**, **Jupyter Keymap** (pour utiliser les raccourcis clavier de Jupyter Notebook) et **Jupyter Notebook Renderers** (pour les types MIME tels que latex, plotly, vega, etc.).\n",
    "\n",
    "**En conclusion:**  \n",
    "<u>Intuitif</u> et <u>facile à utiliser</u> VS Code est également conçu pour les débutants.  \n",
    "<u>Extensif</u> : VS Code prend en charge un large éventail de langages de programmation et de fonctionnalités.  \n",
    "<u>Personnalisable</u> : VS Code peut être personnalisé en fonction des besoins de l'utilisateur.  \n",
    "VS Code est un choix populaire pour les développeurs de logiciels, les ingénieurs et les scientifiques.\n",
    "\n",
    "\n",
    "### `IPython`\n",
    "\n",
    "#### Description\n",
    "\n",
    "IPython est un terminal interactif pour le langage de programmation Python. [Source Wikipedia](https://fr.wikipedia.org/wiki/IPython). Il est très pratique pour tester des algorithmes, explorer des données,... [Documentation ici](http://ipython.readthedocs.io/en/stable/).  \n",
    "\n",
    "Ces principaux avantages sont: la complétion automatique avec la tabulation, l'accès aux aides, les commandes magiques %, l'historique des entrées, la mise en mémoire des sorties.  \n",
    "\n",
    "La commande magique IPython `%quickref` permet d'afficher rapidement une référence des commandes magiques IPython courantes et leurs descriptions.\n",
    "\n",
    "#### Installation\n",
    "\n",
    "Installé avec Anaconda3, il ne nécessite pas d'installation particulière.\n",
    "S'il n'est pas installé par défaut, lancer la commande shell: conda install ipython\n",
    "\n",
    "\n",
    "\n",
    "### Écrire du code en python\n",
    "\n",
    "La plupart des **éditeurs de texte** pour la programmation fournissent au moins un support rudimentaire pour Python. Deux autres options populaires sont [VSCode](https://code.visualstudio.com/) et [vim](https://realpython.com/blog/python/vim-and-python-a-match-made-in-heaven/).\n",
    "\n",
    "Avec Anaconda est fourni entre autres [Spyder](https://github.com/spyder-ide/spyder), qui est une environnement de développement intéractif puissant, incluant notamment un éditeur mais aussi une console.\n",
    "\n",
    "### Comment exécuter du code?\n",
    "\n",
    "1. Python:\n",
    "   `$ python script.py`.  \n",
    "   Execution d'un script entier.\n",
    "\n",
    "2. IPython: shell interactif Python.\n",
    "   `$ ipython`  \n",
    "\n",
    "4. Jupyter notebook `%run script.py`. Pour exécuter une cellule `Maj+Enter` ou `Ctrl+Maj`   \n",
    "\n",
    "5. Dans un IDE tel que Spyder: ouvrir le fichier script.py avec Spyder et cliquer sur le bouton _Run_ ou sur F5.\n",
    "\n",
    "\n",
    "   \n",
    "\n",
    "Ce fichier est un exemple de notebook jupyter. Son extension est **`.ipynb`**.\n",
    "\n",
    "\n",
    "# Jupyter Notebook prise en main\n",
    "\n",
    "Application web qui permet de créer des documents contenant du code, du texte, et des résultats (traces, graphiques).\n",
    "Utilise le kernel IPython.  \n",
    "[Documentation ici](http://jupyter-notebook.readthedocs.io/en/latest/)   \n",
    "\n",
    "Note: [lien utile](http://help.pythonanywhere.com/pages/IPythonNotebookVirtualenvs) pour utiliser Jupyter notebook <u>dans un environnement virtuel</u>.\n",
    "\n",
    "## Types de cellules\n",
    "\n",
    "Les deux principaux types de cellule que nous utiliserons:  \n",
    "* Les cellules **Markdown** de texte\n",
    "* Les cellules de **Code** de programmation précédée par `[ ]:`\n",
    "  \n",
    "* `Surligné`(texte surligné avec la touche Backtick)\n",
    "\n",
    "Il suffit de Double cliquer pour activer une cellule.\n",
    "\n",
    "## Raccourcis clavier\n",
    "\n",
    "https://jupyter-tutorial.readthedocs.io/en/24.1.0/notebook/shortcuts.html  \n",
    "<b style=\"font-size: 10px;\">See also the information in the menu bar, Edition</b> \n",
    "\n",
    "* ESC + m : Change the mode of the cell from code to markdown\n",
    "* ESC + y : Switch the cell from code to markdown\n",
    "* ESC + a: Insert a cell above\n",
    "* ESC + b: insert a cell below\n",
    "* ESC + dd: delete a cell\n",
    "* Ctrl+ Enter : Execute the current cell and selection the next one.\n",
    "* Shift+Enter : Execute the current cell and insert a new empty cell just below if code is ending or pass to the next cell either\n",
    "* Ctrl+A : Sélectionne tout le texte de la cellule courante.\n",
    "* Ctrl+Z : Annule la dernière action.\n",
    "* Ctrl+/ : Pour mettre en commentaire ou décommenter une ligne (attention le '/' est celui du pavé numérique)\n",
    "\n",
    "## Mise en page\n",
    "\n",
    "To modify the title of your Jupyter Notebook double-click in the upper rubber\n",
    "\n",
    "Pour mettre du texte dans une cellule de code, précédé le texte de # (la ligne restera ignoré par l'interpréteur)\n",
    "\n",
    "Titre #  \n",
    "Sous-titre ##  \n",
    "Sous-section ###  \n",
    "\n",
    "<b> test </b>  \n",
    "**test**\n",
    "\n",
    "<u>test</u>\n",
    "\n",
    "<b><u>test</u></b>\n",
    "\n",
    "`Test`\n",
    "\n",
    "## Ingrédients\n",
    "\n",
    "* Des œufs\n",
    "* De la farine\n",
    "* Du lait\n",
    "* Du sucre\n",
    "* ~~De l'huile de coude~~\n",
    "\n",
    "> N'hésitez pas à faire **moitié-moitié** avec du sucre vanillé pour plus de goût !\n",
    "\n",
    "### Tableau des quantités\n",
    "\n",
    "| œufs | farine | lait | sucre |\n",
    "|-------|--------|------|-------|\n",
    "|   3   |  300g  | 60cl |  20g  |\n",
    "\n",
    "\n",
    "Ceci est une phrase.\n",
    "Ceci n'est pas une nouvelle phrase.\n",
    "\n",
    "Ceci est une phrase.<br>Ceci est une nouvelle phrase.\n",
    "\n",
    "Ceci est une phrase.  \n",
    "Ceci est une nouvelle phrase.\n",
    "\n",
    "- Rédiger des formules mathématiques:\n",
    "\n",
    "$ f(x) = x^2 $\n",
    "\n",
    "$ \\left( \\sum_{k=1}^n a_k b_k \\right) ^2 \\leq \\left( \\sum_{k=1}^n a_k^2 \\right) \\left( \\sum_{k=1}^n b_k^2 \\right) $\n",
    "\n",
    "\\begin{equation*}\n",
    "\\left( \\sum_{k=1}^n a_k b_k \\right)^2 \\leq \\left( \\sum_{k=1}^n a_k^2 \\right) \\left( \\sum_{k=1}^n b_k^2 \\right)\n",
    "\\end{equation*}\n",
    "\n",
    "\n",
    "- Créer une boîte d'alerte de succès\n",
    "\n",
    "<div class=\"alert alert-success\">\n",
    "    Félicitations ! Votre code a fonctionné.\n",
    "</div>\n",
    "\n",
    "- Créer une boîte d'alerte d'alerte\n",
    "\n",
    "<div class=\"alert alert-danger\">\n",
    "    <h3>Titre de la boîte d'alerte</h3>\n",
    "    <p>Texte de la boîte d'alerte</p>\n",
    "</div>\n",
    "\n",
    "- Créer une boîte d'alerte d'information\n",
    "\n",
    "\n",
    "<div class=\"alert alert-info\">\n",
    "<b>REMEMBER</b>:    \n",
    "<ul>\n",
    "  <li>When you have an operation...</li>\n",
    "  <li>A typical use case</li>\n",
    "</ul>\n",
    "</div>"
   ]
  },
  {
   "cell_type": "markdown",
   "id": "8ccdaed1-d6e6-4b04-9ba4-cbf2009fb156",
   "metadata": {
    "jp-MarkdownHeadingCollapsed": true
   },
   "source": [
    "- Install a Table of contents \n",
    "\n",
    "`!pip install Nbextensions`  \n",
    "\n",
    "click on the icone _Content_ in the bar menu"
   ]
  },
  {
   "cell_type": "code",
   "execution_count": 6,
   "id": "a54568f8-46a1-4575-96ef-09c45ffa0940",
   "metadata": {},
   "outputs": [
    {
     "name": "stdout",
     "output_type": "stream",
     "text": [
      "Channels:\n",
      " - conda-forge\n",
      " - defaults\n",
      "Platform: osx-arm64\n",
      "Collecting package metadata (repodata.json): done\n",
      "Solving environment: done\n",
      "\n",
      "# All requested packages already installed.\n",
      "\n"
     ]
    }
   ],
   "source": [
    "!conda install Nbconvert"
   ]
  },
  {
   "cell_type": "code",
   "execution_count": 2,
   "id": "329db5db-c04f-4e8f-afc4-066fcdf581a4",
   "metadata": {},
   "outputs": [],
   "source": [
    "# 2 lines below for HTML export\n",
    "import plotly.io as pio\n",
    "pio.renderers.default = \"notebook\""
   ]
  },
  {
   "cell_type": "code",
   "execution_count": 8,
   "id": "6fe41545-6643-4a7d-8b10-ad52a634edbc",
   "metadata": {},
   "outputs": [
    {
     "name": "stdout",
     "output_type": "stream",
     "text": [
      "zsh:1: command not found: pyppeteer.install\n"
     ]
    }
   ],
   "source": [
    "# 2 lines below for PDF export\n",
    "# !conda install Pyppeteer\n",
    "!pyppeteer.install"
   ]
  },
  {
   "cell_type": "markdown",
   "id": "f30d354e-cd27-4350-bf4c-e9723b1608a1",
   "metadata": {},
   "source": [
    "## Exporter ou sauvegarder son notebook sous différentes formes\n",
    "\n",
    "Un notebook est une interface de développement permettant le travail interactif.  \n",
    "L'interface des notebooks vous permet en un clic d'exporter en fichier **.py** avec l'option _Download as Python (.py)_  "
   ]
  },
  {
   "cell_type": "markdown",
   "id": "f12ef46f-eced-41e0-a9bc-139e1ca9693b",
   "metadata": {},
   "source": [
    "# Programmer en Python\n",
    "\n",
    "## Les bases du langage `Python`\n",
    "\n",
    "Commençons par préciser comment accéder à la documentation\n",
    "* [manuel de référence](https://docs.python.org/fr/3.7/reference/): structure et sémantique interne\n",
    "\n",
    "* [bibliothèque standard](https://docs.python.org/fr/3.7/library/): sémantique des objets natifs secondaires, des fonctions, et des modules\n",
    "\n",
    "* commande en ligne : `help('commande')` ou `commande?`\n",
    "\n",
    "\n",
    "## Premiers codes Python"
   ]
  },
  {
   "cell_type": "code",
   "execution_count": 11,
   "id": "8bf76538",
   "metadata": {},
   "outputs": [],
   "source": [
    "# Afficher Bonjour\n",
    "\n",
    "#print('Bonjour')"
   ]
  },
  {
   "cell_type": "markdown",
   "id": "7e1155f5-bbd6-438b-8904-69b18bd503fc",
   "metadata": {},
   "source": [
    "Aide sur les fonctions"
   ]
  },
  {
   "cell_type": "code",
   "execution_count": 210,
   "id": "08996096-9eae-4292-984c-2bdaec6c6fca",
   "metadata": {},
   "outputs": [],
   "source": [
    "# To have information about the print() function:\n",
    "\n",
    "#print?"
   ]
  },
  {
   "cell_type": "code",
   "execution_count": 211,
   "id": "d488a722-f145-44c0-8463-52956b2f8e89",
   "metadata": {},
   "outputs": [],
   "source": [
    "# Other way to get information on the print function:\n",
    "\n",
    "# help(print)"
   ]
  },
  {
   "cell_type": "code",
   "execution_count": 212,
   "id": "f7e03fe9",
   "metadata": {},
   "outputs": [],
   "source": [
    "# Execute a bash command in a jupyter cell:\n",
    "\n",
    "#!ls"
   ]
  },
  {
   "cell_type": "code",
   "execution_count": 213,
   "id": "bc961be7",
   "metadata": {},
   "outputs": [],
   "source": [
    "# %quickref: quick reference guide to commonly used magic commands and their descriptions\n",
    "\n",
    "#%quickref"
   ]
  },
  {
   "cell_type": "code",
   "execution_count": 10,
   "id": "f4204230",
   "metadata": {},
   "outputs": [],
   "source": [
    "# Simple addition\n",
    "\n",
    "#1 + 2 + 3"
   ]
  },
  {
   "cell_type": "code",
   "execution_count": 216,
   "id": "51ad9201",
   "metadata": {},
   "outputs": [],
   "source": [
    "# Aide sur l'object sum\n",
    "\n",
    "#help(sum)"
   ]
  },
  {
   "cell_type": "markdown",
   "id": "1cdab526",
   "metadata": {},
   "source": [
    "**iterable** désigne un objet qui peut être itéré. Cela signifie qu'il peut être parcouru un élément à la fois.  \n",
    "Dans le cas de la fonction sum(), l'objet itérable est la source des éléments à additionner. Par exemple, la ligne suivante additionne les éléments de la liste [1, 2, 3] "
   ]
  },
  {
   "cell_type": "code",
   "execution_count": 13,
   "id": "009ab8b1",
   "metadata": {},
   "outputs": [],
   "source": [
    "#sum([1, 2, 3])"
   ]
  },
  {
   "cell_type": "markdown",
   "id": "cac57dae-85f6-4fbd-b80a-7542b0585fa6",
   "metadata": {},
   "source": [
    "`L'affectation`"
   ]
  },
  {
   "cell_type": "code",
   "execution_count": 14,
   "id": "2af6eaa6",
   "metadata": {},
   "outputs": [],
   "source": [
    "#x = 5\n",
    "\n",
    "#x"
   ]
  },
  {
   "cell_type": "code",
   "execution_count": 117,
   "id": "dcec9099",
   "metadata": {},
   "outputs": [],
   "source": [
    "# Information about x\n",
    "\n",
    "#x?"
   ]
  },
  {
   "cell_type": "code",
   "execution_count": 120,
   "id": "7be929d8-83cb-49f1-8646-9b015faf197f",
   "metadata": {},
   "outputs": [],
   "source": [
    "# b = 9/4\n",
    "\n",
    "# type(b)"
   ]
  },
  {
   "cell_type": "code",
   "execution_count": 118,
   "id": "9705315c-8cd7-4586-ac99-78f2e7c4e1fb",
   "metadata": {},
   "outputs": [],
   "source": [
    "# c = \"bonjour\"\n",
    "\n",
    "# type(c)"
   ]
  },
  {
   "cell_type": "code",
   "execution_count": 16,
   "id": "0d441c4c",
   "metadata": {},
   "outputs": [],
   "source": [
    "# %whos: Display information about the variables and objects currently defined in the notebook's global scope\n",
    "\n",
    "#%whos"
   ]
  },
  {
   "cell_type": "code",
   "execution_count": 17,
   "id": "ed914292",
   "metadata": {},
   "outputs": [],
   "source": [
    "# Equivalent whos\n",
    "\n",
    "#whos?"
   ]
  },
  {
   "cell_type": "code",
   "execution_count": 1,
   "id": "66822483",
   "metadata": {},
   "outputs": [],
   "source": [
    "# Get information about the variables in memory\n",
    "\n",
    "#whos"
   ]
  },
  {
   "cell_type": "code",
   "execution_count": 19,
   "id": "b10cb88c",
   "metadata": {},
   "outputs": [],
   "source": [
    "# timeit: execution time\n",
    "\n",
    "#%timeit?"
   ]
  },
  {
   "cell_type": "code",
   "execution_count": 4,
   "id": "770e0deb",
   "metadata": {},
   "outputs": [],
   "source": [
    "# Execution time to have the result of 10 + 11\n",
    "\n",
    "#%timeit 10 + 11"
   ]
  },
  {
   "cell_type": "code",
   "execution_count": 1,
   "id": "9146df1c",
   "metadata": {},
   "outputs": [],
   "source": [
    "# Write a file in a jupyter notebook cell:\n",
    "\n",
    "# %%writefile?"
   ]
  },
  {
   "cell_type": "code",
   "execution_count": 20,
   "id": "c8aec17a",
   "metadata": {},
   "outputs": [],
   "source": [
    "# Below, write the content of the cell into a file called test.py\n",
    "\n",
    "# Note: we cannot write these lines of comment into the cell of %%writefile"
   ]
  },
  {
   "cell_type": "code",
   "execution_count": 21,
   "id": "991f5673",
   "metadata": {},
   "outputs": [],
   "source": [
    "# Structure try-except de python permet de tenter une exécution et de continuer si elle échoue\n",
    "\n",
    "# Ici nous tentons de supprimer un fichier test.py. Si celui-ci n'est pas présent, python continuera et \"passera\" son chemin.\n",
    "\n",
    "#try:\n",
    "#    os.remove(test.py)\n",
    "#except:\n",
    "#    pass"
   ]
  },
  {
   "cell_type": "code",
   "execution_count": 22,
   "id": "2ae30713",
   "metadata": {},
   "outputs": [],
   "source": [
    "#%%writefile test.py\n",
    "\n",
    "#print(\"Bonjour du fichier test.py\")"
   ]
  },
  {
   "cell_type": "code",
   "execution_count": 23,
   "id": "7af61dc8",
   "metadata": {},
   "outputs": [],
   "source": [
    "# Display the content of the python file test.py\n",
    "\n",
    "#!cat test.py"
   ]
  },
  {
   "cell_type": "code",
   "execution_count": 24,
   "id": "061a084c",
   "metadata": {},
   "outputs": [],
   "source": [
    "# Execute a python code into a jupyter notebook cell:\n",
    "\n",
    "#%run test.py"
   ]
  },
  {
   "cell_type": "code",
   "execution_count": 25,
   "id": "f8514001",
   "metadata": {},
   "outputs": [],
   "source": [
    "# Les bases du langage Python\n",
    "\n",
    "#import this"
   ]
  },
  {
   "cell_type": "markdown",
   "id": "50f15116",
   "metadata": {},
   "source": [
    "**[Tim Peters](https://en.wikipedia.org/wiki/Tim_Peters_(software_engineer))** : **[source: wikipedia], Traduction DeepL**"
   ]
  },
  {
   "cell_type": "markdown",
   "id": "3dc105fa",
   "metadata": {},
   "source": [
    "Le beau est mieux que le laid.  \n",
    "L'explicite vaut mieux que l'implicite.  \n",
    "La simplicité est préférable à la complexité.  \n",
    "Complexe vaut mieux que compliqué.  \n",
    "Plat vaut mieux qu'imbriqué.  \n",
    "Mieux vaut une structure éparse qu'une structure dense.  \n",
    "La lisibilité compte.  \n",
    "Les cas particuliers ne sont pas assez spéciaux pour enfreindre les règles.  \n",
    "Même si l'aspect pratique l'emporte sur la pureté.  \n",
    "Les erreurs ne devraient jamais être passées sous silence.  \n",
    "À moins qu'elles ne soient explicitement réduites au silence.  \n",
    "En cas d'ambiguïté, refusez la tentation de deviner.  \n",
    "Il doit y avoir une - et de préférence une seule - façon évidente de procéder.  \n",
    "Même si cette façon n'est pas évidente au premier abord, à moins d'être hollandais.  \n",
    "Mieux vaut maintenant que jamais.  \n",
    "Bien que jamais soit souvent mieux que *tout de suite*.  \n",
    "Si la mise en œuvre est difficile à expliquer, c'est une mauvaise idée.  \n",
    "Si l'implémentation est facile à expliquer, c'est peut-être une bonne idée.  \n",
    "Les espaces de nommage sont une excellente idée - faisons-en plus !"
   ]
  },
  {
   "cell_type": "markdown",
   "id": "e20df9a2",
   "metadata": {},
   "source": [
    "## Le guide de style `PEP8`\n",
    "\n",
    "\n",
    "**P**ython **E**nhancement **P**roposal **8** [`Pep8`](https://pep8.org/) définit les conventions de codage, les directives et les meilleures pratique pour écrire du code Python.\n",
    "\n",
    "Si vous collaborez avec d'autres personnes en Python, essayer de suivre ses conventions permet d'avoir une homogénéité.\n",
    "\n",
    "**Règles indicatives:**\n",
    "Python étant sensible à la casse, des conventions de nommage basées sur l'utilisation de majuscules et de miniscules existent:\n",
    "- les fonctions sont toujours nommées en minuscule avec des _ si besoin\n",
    "- les classes s'écrivent sans séparateurs avec une majuscule à la première lettre de chaque mot la composant\n",
    "- les packages s'écrivent en miniscules, is possible sans séparateur (éventuellement _)\n",
    "\n",
    "Ces règles ne sont qu'indicatives. Si elles n'ont pas été respectées dans un projet l'important est de rester cohérent avec ce projet pour garder un code lisible.\n",
    "\n"
   ]
  },
  {
   "cell_type": "markdown",
   "id": "0b0184fb",
   "metadata": {},
   "source": [
    "## La fonction print\n",
    "\n",
    "La fonction `print` permet d'afficher l'expression qu'elle contient."
   ]
  },
  {
   "cell_type": "code",
   "execution_count": 26,
   "id": "3dc87914",
   "metadata": {},
   "outputs": [],
   "source": [
    "#print(\"Hello world!\")"
   ]
  },
  {
   "cell_type": "code",
   "execution_count": 1,
   "id": "30491d72",
   "metadata": {},
   "outputs": [],
   "source": [
    "# print(1)\n",
    "# 2 + 2\n",
    "# print(2)\n",
    "# 1 + 1"
   ]
  },
  {
   "cell_type": "code",
   "execution_count": 2,
   "id": "d6e77865",
   "metadata": {},
   "outputs": [],
   "source": [
    "# Ecrire du texte avec des variables:\n",
    "\n",
    "# cours = \"Python\"\n",
    "# jour = 15.0\n",
    "\n",
    "# print(f\"Aujourd'hui, le {jour:0.0f}, nous avons cours de {cours}\")"
   ]
  },
  {
   "cell_type": "markdown",
   "id": "9ec1abd9",
   "metadata": {},
   "source": [
    "## Les types de bases\n",
    "\n",
    "### Les constantes de Python\n",
    "\n",
    "Il existe différentes valeurs de base dans python. Les plus communes sont\n",
    "\n",
    "* `None`: une valeure vide (vu plus tard).\n",
    "* `False/True`: Les constantes booléennes.\n",
    "* Les entiers: `0, 1, -2, ..`. Ils peuvent aussi s'écrire sous forme binaire `0b1111` ou hexadécimale `0xf`.\n",
    "* Les floatants: `0.0, 1.0, -1.234, ...`. Ils peucvent aussi s'ecrire sous la forme scientifique `1e-4, 3.4e-12,...`.\n",
    "* Les charactères: `a, b, c, d, ...`."
   ]
  },
  {
   "cell_type": "markdown",
   "id": "4c5db7f6-8b5a-464e-9867-18951681327e",
   "metadata": {},
   "source": [
    "`booléens`"
   ]
  },
  {
   "cell_type": "code",
   "execution_count": 4,
   "id": "9d829134-23be-449e-bad1-7b58ce444920",
   "metadata": {},
   "outputs": [],
   "source": [
    "# True"
   ]
  },
  {
   "cell_type": "code",
   "execution_count": 126,
   "id": "8ef6f780-3031-4383-8c69-2357e798655b",
   "metadata": {},
   "outputs": [],
   "source": [
    "# # Comparaison pour créer des booléens:\n",
    "\n",
    "# # Affectation:\n",
    "\n",
    "# a = 5\n",
    "\n",
    "# # Est-ce que a vaut 5 ?\n",
    "\n",
    "# a == 5"
   ]
  },
  {
   "cell_type": "code",
   "execution_count": 136,
   "id": "8b48a64e-d58e-4d7a-b684-996bdedfad56",
   "metadata": {},
   "outputs": [],
   "source": [
    "# # Est-ce que a est plus grand ou égal à 6 ?\n",
    "\n",
    "# a >= 6"
   ]
  },
  {
   "cell_type": "markdown",
   "id": "4bb0425b-b053-43e6-ba1d-e7ae911f38aa",
   "metadata": {},
   "source": [
    "`Les entiers`"
   ]
  },
  {
   "cell_type": "code",
   "execution_count": 137,
   "id": "9b773c03-3138-45e9-aad1-ab27beef4280",
   "metadata": {},
   "outputs": [],
   "source": [
    "# 4"
   ]
  },
  {
   "cell_type": "code",
   "execution_count": 138,
   "id": "e039cc74",
   "metadata": {},
   "outputs": [],
   "source": [
    "# 15, 0b1111, 0xf"
   ]
  },
  {
   "cell_type": "markdown",
   "id": "6ecc70e4-b0fe-4bde-bc25-7b03344d9de3",
   "metadata": {},
   "source": [
    "_`floats`_ nombres à virgule"
   ]
  },
  {
   "cell_type": "code",
   "execution_count": 139,
   "id": "8ac50f32",
   "metadata": {},
   "outputs": [],
   "source": [
    "# 0.023, 2.3e-2"
   ]
  },
  {
   "cell_type": "markdown",
   "id": "64ccc258-a531-4a62-bc21-df62f89d7c1d",
   "metadata": {},
   "source": [
    "L'écriture des int et de tous les floats en général est une écriture **décimale**"
   ]
  },
  {
   "cell_type": "markdown",
   "id": "7b5736ee",
   "metadata": {},
   "source": [
    "### Les types numériques"
   ]
  },
  {
   "cell_type": "code",
   "execution_count": 140,
   "id": "c38ff8a9",
   "metadata": {},
   "outputs": [],
   "source": [
    "# a = -1\n",
    "\n",
    "# type(a)"
   ]
  },
  {
   "cell_type": "code",
   "execution_count": 141,
   "id": "7ff95c61",
   "metadata": {},
   "outputs": [],
   "source": [
    "# b = 4.6\n",
    "\n",
    "# type(b)"
   ]
  },
  {
   "cell_type": "code",
   "execution_count": 142,
   "id": "84e2ff70",
   "metadata": {},
   "outputs": [],
   "source": [
    "# c = 2.2 + 0.8j\n",
    "\n",
    "# print(c.real)\n",
    "# print(c.imag)\n",
    "\n",
    "# type(c)"
   ]
  },
  {
   "cell_type": "code",
   "execution_count": 143,
   "id": "9507db1e",
   "metadata": {},
   "outputs": [],
   "source": [
    "# d = 4 != 6\n",
    "\n",
    "# print(d)\n",
    "\n",
    "# type(d)"
   ]
  },
  {
   "cell_type": "markdown",
   "id": "33d625a6-4cb8-484e-a1eb-0a7d0d60eb1e",
   "metadata": {},
   "source": [
    "### Conversion d'un type"
   ]
  },
  {
   "cell_type": "markdown",
   "id": "d42945d4-1fdc-4830-930c-19fe99ce1a15",
   "metadata": {},
   "source": [
    "On peut effectuer des conversions d'un type en un autre type."
   ]
  },
  {
   "cell_type": "markdown",
   "id": "5bd8989e-1a95-4ad6-a3b3-d1a2a0110270",
   "metadata": {},
   "source": [
    "`int()`"
   ]
  },
  {
   "cell_type": "code",
   "execution_count": 222,
   "id": "3da81650-da98-4655-8704-db4000ef1dad",
   "metadata": {},
   "outputs": [],
   "source": [
    "# To convert a float type variable into a int type"
   ]
  },
  {
   "cell_type": "code",
   "execution_count": 223,
   "id": "e3a122f6-8cf8-43ce-b195-cf219d20889e",
   "metadata": {},
   "outputs": [],
   "source": [
    "# a = 7.2\n",
    "\n",
    "# type(a)"
   ]
  },
  {
   "cell_type": "code",
   "execution_count": 224,
   "id": "5da83dd6-8f3c-46d4-9ca8-e91ee0d908dc",
   "metadata": {},
   "outputs": [],
   "source": [
    "# b = int(a)\n",
    "\n",
    "# b"
   ]
  },
  {
   "cell_type": "code",
   "execution_count": 359,
   "id": "edd19063-ea36-41d0-8f8c-2441f0b1347a",
   "metadata": {},
   "outputs": [],
   "source": [
    "# c = '20'\n",
    "\n",
    "# int(c)"
   ]
  },
  {
   "cell_type": "markdown",
   "id": "1ae6f484-513f-48d7-a636-b80c53e2a9be",
   "metadata": {},
   "source": [
    "`float()`"
   ]
  },
  {
   "cell_type": "code",
   "execution_count": 225,
   "id": "5cde6b80-8dfb-424f-b9e9-25b6f838d1a8",
   "metadata": {},
   "outputs": [],
   "source": [
    "# To convert a int type variable into a float type"
   ]
  },
  {
   "cell_type": "code",
   "execution_count": 226,
   "id": "a00bf34c-5d78-4757-bba2-4d612ddb0741",
   "metadata": {},
   "outputs": [],
   "source": [
    "# float(b)"
   ]
  },
  {
   "cell_type": "markdown",
   "id": "d57fd2ac-b628-4a6c-ad3b-46a379bfdd74",
   "metadata": {},
   "source": [
    "### Les opérateurs arithmétiques"
   ]
  },
  {
   "cell_type": "markdown",
   "id": "b6707667-47b6-4721-b2e0-1ea93c8ab67c",
   "metadata": {},
   "source": [
    "Les opérations arithmétiques de base `+`, `-`, `*`, `/`, `%` (modulo) sont implémentées nativement.  "
   ]
  },
  {
   "cell_type": "code",
   "execution_count": 11,
   "id": "16f536ac",
   "metadata": {},
   "outputs": [],
   "source": [
    "# print(24 * 4)\n",
    "# print(2 ** 10)\n",
    "# print(12 % 5)"
   ]
  },
  {
   "cell_type": "code",
   "execution_count": 12,
   "id": "e472fce5",
   "metadata": {},
   "outputs": [],
   "source": [
    "# # définir certaines variables et les afficher\n",
    "\n",
    "# a = 1\n",
    "# a += 5\n",
    "# print(a)"
   ]
  },
  {
   "cell_type": "code",
   "execution_count": 13,
   "id": "89cea59f-f2f1-490c-8c3f-96a698f4e2a7",
   "metadata": {},
   "outputs": [],
   "source": [
    "# # division entière // sans reste\n",
    "\n",
    "# 11 // 2"
   ]
  },
  {
   "cell_type": "markdown",
   "id": "2b28dad9-0aae-4a07-bda6-f1e3907be663",
   "metadata": {},
   "source": [
    "### Les opérateurs logiques"
   ]
  },
  {
   "cell_type": "markdown",
   "id": "ad17e815-968a-404f-b6de-f26dd847eaad",
   "metadata": {},
   "source": [
    "|Opérateur | Description|\n",
    "|----------|------------|\n",
    "|not| c'est le NON logique|\n",
    "|and (& cas binaire)| c'est le ET logique|\n",
    "|or| c''est le OU logique|\n",
    "|^ dans le cas binaire| c'est le OU EXCLUSIF|"
   ]
  },
  {
   "cell_type": "markdown",
   "id": "5614bdd6-b60f-4067-a287-4a827542dc43",
   "metadata": {},
   "source": [
    "### Les opérateurs de comparaisons"
   ]
  },
  {
   "cell_type": "markdown",
   "id": "0524a44f-15a5-464c-bcd0-b1b1d4021cc5",
   "metadata": {},
   "source": [
    "|Opérateur | Objectif|\n",
    "|----------|------------|\n",
    "|is| Tester si les objets sont les mêmes. a is b renvoie True si a et b sont les mêmes objets, False sinon|\n",
    "|is not| Test si les objets sont différents a is not b|\n",
    "|==| Test l'égalité entre deux valeurs True == 1 est vrai|\n",
    "|!=| Test la Différence entre deux valeurs|\n",
    "|< ou >|Test si plus petit ou plus grand 1<2 retourne True|\n",
    "|<= ou >=| Test si plus petit ou égal 1 <= 1 retourne True|"
   ]
  },
  {
   "cell_type": "code",
   "execution_count": 234,
   "id": "fd9b0254-92b0-4bbf-805d-cde3e61d0956",
   "metadata": {},
   "outputs": [],
   "source": [
    "# True == 1"
   ]
  },
  {
   "cell_type": "code",
   "execution_count": 235,
   "id": "dc0f0b5a-1d60-428b-b5a6-c0b9b1bdcdc9",
   "metadata": {},
   "outputs": [],
   "source": [
    "# True > False"
   ]
  },
  {
   "cell_type": "markdown",
   "id": "16becdeb-2087-4a36-884a-8acf175023cf",
   "metadata": {},
   "source": [
    "### Les tuples"
   ]
  },
  {
   "cell_type": "markdown",
   "id": "1c9c563e",
   "metadata": {},
   "source": [
    "Structure objet rassemblant plusieurs objets dans un ordre indexé. Les tuples sont des listes <i>immutable</i>.  \n",
    "En Python, un objet <i>immutable</i> (immuable en français) est un objet dont la forme ne peut pas être modifiée après sa création.  \n",
    "Les tuples requiert peu de mémoire et sont utilisées en sortie des fonctions renvoyant plusieurs valeurs."
   ]
  },
  {
   "cell_type": "code",
   "execution_count": 14,
   "id": "6ca98810",
   "metadata": {},
   "outputs": [],
   "source": [
    "# Define a tuple named t containing three elements:\n",
    "\n",
    "# t = ('blabla', 2, 'blibli')"
   ]
  },
  {
   "cell_type": "code",
   "execution_count": 15,
   "id": "3dcb6cbd",
   "metadata": {},
   "outputs": [],
   "source": [
    "# t"
   ]
  },
  {
   "cell_type": "code",
   "execution_count": 16,
   "id": "efe715c1",
   "metadata": {},
   "outputs": [],
   "source": [
    "# Indexing: Première valeur du tuple:\n",
    "\n",
    "# t[0]"
   ]
  },
  {
   "cell_type": "code",
   "execution_count": 1,
   "id": "93b53542-f44e-4adb-a386-deadc0373aac",
   "metadata": {},
   "outputs": [],
   "source": [
    "# Tentons de modifier cette première valeur:\n",
    "\n",
    "# t[0] = 'abc'"
   ]
  },
  {
   "cell_type": "code",
   "execution_count": 6,
   "id": "aab066c8",
   "metadata": {},
   "outputs": [],
   "source": [
    "# Let's define a new tuple u. Parenthesis are not mandatory:\n",
    "\n",
    "# u = 'blabla', 2, 'blibli'"
   ]
  },
  {
   "cell_type": "code",
   "execution_count": 7,
   "id": "3759db8c",
   "metadata": {},
   "outputs": [],
   "source": [
    "# u"
   ]
  },
  {
   "cell_type": "code",
   "execution_count": 8,
   "id": "1a802f05",
   "metadata": {},
   "outputs": [],
   "source": [
    "# s1, v1, s2, a  = u\n",
    "\n",
    "# print(s1)\n",
    "# print(v1)"
   ]
  },
  {
   "cell_type": "markdown",
   "id": "08b29c7b-d648-4ed3-bbff-5190630ee83f",
   "metadata": {},
   "source": [
    "`count()` exemple de méthode d'un tuple"
   ]
  },
  {
   "cell_type": "code",
   "execution_count": 9,
   "id": "106a02fa-8cf0-4999-93bf-175cb7d4ae59",
   "metadata": {},
   "outputs": [],
   "source": [
    "# u.count('blabla')"
   ]
  },
  {
   "cell_type": "markdown",
   "id": "516a9f7a",
   "metadata": {},
   "source": [
    "### Les listes"
   ]
  },
  {
   "cell_type": "markdown",
   "id": "7d3c799b-e07f-4c1c-afce-87870d81e401",
   "metadata": {},
   "source": [
    "Les listes sont une suite finie de valeurs de type quelconque.  \n",
    "Pour définir une liste, on utilise des crochets : **[** pour ouvrir la liste et **]** pour fermer la liste.  \n",
    "On sépare les valeurs de la liste par une virgule."
   ]
  },
  {
   "cell_type": "code",
   "execution_count": 21,
   "id": "0feef4b7",
   "metadata": {},
   "outputs": [],
   "source": [
    "# Ecrire une liste contenant les jours de la semaine:\n",
    "\n",
    "# semaine = ['lundi', 'mardi', 'mercredi', 'jeudi', 'vendredi']"
   ]
  },
  {
   "cell_type": "code",
   "execution_count": 22,
   "id": "90080f90-65a8-4015-ad12-7bd9a2e57ece",
   "metadata": {},
   "outputs": [],
   "source": [
    "# type(semaine)"
   ]
  },
  {
   "cell_type": "markdown",
   "id": "056883a3",
   "metadata": {},
   "source": [
    "`list indexing`"
   ]
  },
  {
   "cell_type": "code",
   "execution_count": 23,
   "id": "0fb81829",
   "metadata": {},
   "outputs": [],
   "source": [
    "# semaine[0]"
   ]
  },
  {
   "cell_type": "code",
   "execution_count": 24,
   "id": "9431df0d",
   "metadata": {},
   "outputs": [],
   "source": [
    "# semaine[-1]"
   ]
  },
  {
   "cell_type": "code",
   "execution_count": 25,
   "id": "6effcfce",
   "metadata": {},
   "outputs": [],
   "source": [
    "# semaine[-4]"
   ]
  },
  {
   "cell_type": "markdown",
   "id": "2773e78f",
   "metadata": {},
   "source": [
    "`Slicing`.  \n",
    "\n",
    "Le slicing fait référence à la syntaxe **`semaine[start:stop:stride]`**   \n",
    "\n",
    "Tous les paramètres du slicing sont optionnels. Ils permettent d'extraire une partie de la liste.\n",
    "\n",
    "* **start** et **stop** définissent les limites de la plage d'éléments qui seront retournés.\n",
    "* **start** définit l'indice du premier élément qui sera retourné. Si \"start\" est négatif, il est compté à partir de la fin de la liste.\n",
    "* **stop** définit l'indice du dernier élément qui sera retourné. Si \"stop\" est négatif, il est compté à partir de la fin de la liste.\n",
    "* **stride** signifie \"pas\". Il définit l'intervalle entre les éléments de la liste qui seront retournés.\n",
    "\n",
    "NB: si start est supérieur ou égal à \"stop\", la liste vide sera retournée.\n",
    "\n",
    "**Note:** L'objet `1:-1` est en fait une `slice`."
   ]
  },
  {
   "cell_type": "code",
   "execution_count": 26,
   "id": "4d569220",
   "metadata": {},
   "outputs": [],
   "source": [
    "# Définition de la liste semaine:\n",
    "\n",
    "# semaine = ['lundi','mardi','mercredi','jeudi','vendredi','samedi','dimanche']"
   ]
  },
  {
   "cell_type": "code",
   "execution_count": 27,
   "id": "bf16ac3a",
   "metadata": {},
   "outputs": [],
   "source": [
    "# Sélectionnez le premier et le dernier élément de la liste:\n",
    "\n",
    "# semaine[0], semaine[-1]"
   ]
  },
  {
   "cell_type": "code",
   "execution_count": 28,
   "id": "f826f29b",
   "metadata": {},
   "outputs": [],
   "source": [
    "# a = semaine[0], semaine[-1]"
   ]
  },
  {
   "cell_type": "code",
   "execution_count": 29,
   "id": "4fc5d7b1-5f83-4e6b-8257-205a21ea1f23",
   "metadata": {},
   "outputs": [],
   "source": [
    "# Quel et le type de a ?\n",
    "\n",
    "# type(a)"
   ]
  },
  {
   "cell_type": "code",
   "execution_count": 30,
   "id": "57398f78-bfbd-4f91-b06e-292ddee22eab",
   "metadata": {},
   "outputs": [],
   "source": [
    "# semaine[2::]"
   ]
  },
  {
   "cell_type": "code",
   "execution_count": 31,
   "id": "aeb4867f-ac63-44fb-a759-47e2c4ece736",
   "metadata": {},
   "outputs": [],
   "source": [
    "# Sélectinnez les trois premiers éléments de la liste:\n",
    "\n",
    "# semaine[0:3]"
   ]
  },
  {
   "cell_type": "code",
   "execution_count": 169,
   "id": "2b83ff2b-ee7d-4310-a888-7992faada387",
   "metadata": {},
   "outputs": [],
   "source": [
    "# Nous remarquons que le dernier élément n'est pas sélectionné"
   ]
  },
  {
   "cell_type": "code",
   "execution_count": 49,
   "id": "0c884ca4-6fb4-49e0-8480-c30dcad389a3",
   "metadata": {},
   "outputs": [],
   "source": [
    "# Sélectionnez les 3 premiers éléments avec un pas de 2:\n",
    "\n",
    "# semaine[0:3:2]"
   ]
  },
  {
   "cell_type": "code",
   "execution_count": 32,
   "id": "04e4beae",
   "metadata": {},
   "outputs": [],
   "source": [
    "# Sélectionnez de mardi à samedi:\n",
    "\n",
    "# semaine[1:-1]"
   ]
  },
  {
   "cell_type": "code",
   "execution_count": 33,
   "id": "40a53945",
   "metadata": {},
   "outputs": [],
   "source": [
    "# Sélectionnez tous les jours sauf ceux du week-end:\n",
    "\n",
    "# semaine[:-2]"
   ]
  },
  {
   "cell_type": "code",
   "execution_count": 34,
   "id": "62163066",
   "metadata": {},
   "outputs": [],
   "source": [
    "# Sélectionnez les jours du week-end:\n",
    "\n",
    "# semaine[-2:]"
   ]
  },
  {
   "cell_type": "code",
   "execution_count": 35,
   "id": "65ed8463",
   "metadata": {},
   "outputs": [],
   "source": [
    "# semaine[0]"
   ]
  },
  {
   "cell_type": "code",
   "execution_count": 36,
   "id": "aae66cb6-1c8c-4d74-88dd-c83475b17e7a",
   "metadata": {},
   "outputs": [],
   "source": [
    "# Sélectionnez la semaine en sens inverse\n",
    "\n",
    "# semaine[::-1]"
   ]
  },
  {
   "cell_type": "code",
   "execution_count": 37,
   "id": "8402f958",
   "metadata": {},
   "outputs": [],
   "source": [
    "# Sélectionnez un element sur deux:\n",
    "\n",
    "# semaine[::2]"
   ]
  },
  {
   "cell_type": "code",
   "execution_count": 38,
   "id": "63416477",
   "metadata": {},
   "outputs": [],
   "source": [
    "# On peut slicer sur une chaîne de caractère:\n",
    "\n",
    "# semaine[0][1::3]"
   ]
  },
  {
   "cell_type": "markdown",
   "id": "feb95a4c",
   "metadata": {},
   "source": [
    "Les éléments d'une liste peuvent avoir des types différents."
   ]
  },
  {
   "cell_type": "code",
   "execution_count": 39,
   "id": "2f748266",
   "metadata": {},
   "outputs": [],
   "source": [
    "# liste = ['samedi', 23, 0.1 , None, True]"
   ]
  },
  {
   "cell_type": "code",
   "execution_count": 40,
   "id": "3312a08f",
   "metadata": {},
   "outputs": [],
   "source": [
    "# liste"
   ]
  },
  {
   "cell_type": "markdown",
   "id": "fd4779f2",
   "metadata": {},
   "source": [
    "`+` pour concaténer des listes."
   ]
  },
  {
   "cell_type": "code",
   "execution_count": 41,
   "id": "6ad81041",
   "metadata": {},
   "outputs": [],
   "source": [
    "# # Ecrire une liste contenant les jours de la semaine sauf \"Dimanche\".\n",
    "\n",
    "# # Puis écrire une liste jour contenant \"Dimanche\"\n",
    "\n",
    "# # Concater les deux listes à l'aide du symbole \"+\"\n",
    "\n",
    "# liste = ['lundi', 'mardi', 'mercredi', 'jeudi', 'vendredi', 'samedi']\n",
    "\n",
    "# jour = ['dimanche']"
   ]
  },
  {
   "cell_type": "code",
   "execution_count": 42,
   "id": "bc39075f",
   "metadata": {},
   "outputs": [],
   "source": [
    "# liste"
   ]
  },
  {
   "cell_type": "code",
   "execution_count": 43,
   "id": "c2502df4",
   "metadata": {},
   "outputs": [],
   "source": [
    "# jour"
   ]
  },
  {
   "cell_type": "code",
   "execution_count": 44,
   "id": "65075bc0",
   "metadata": {},
   "outputs": [],
   "source": [
    "# liste + jour"
   ]
  },
  {
   "cell_type": "code",
   "execution_count": 45,
   "id": "edd44038",
   "metadata": {},
   "outputs": [],
   "source": [
    "# semaine = liste + jour\n",
    "\n",
    "# semaine"
   ]
  },
  {
   "cell_type": "code",
   "execution_count": 46,
   "id": "0505f4ee",
   "metadata": {},
   "outputs": [],
   "source": [
    "# Les éléments d'une liste sont modifiables (contrairement à ceux d'un tuple):\n",
    "\n",
    "# semaine[0] = 0"
   ]
  },
  {
   "cell_type": "code",
   "execution_count": 47,
   "id": "29afbc79-eeeb-42da-aed8-a7e50ef2a164",
   "metadata": {},
   "outputs": [],
   "source": [
    "# semaine"
   ]
  },
  {
   "cell_type": "markdown",
   "id": "dfee9013",
   "metadata": {},
   "source": [
    "**`Trier`** une liste par alphabétique avec la fonction **sorted()**"
   ]
  },
  {
   "cell_type": "code",
   "execution_count": 48,
   "id": "1b9a56ec",
   "metadata": {},
   "outputs": [],
   "source": [
    "# semaine = ['lundi','mardi','mercredi','jeudi','vendredi','samedi','dimanche']\n",
    "\n",
    "# sorted(semaine)"
   ]
  },
  {
   "cell_type": "markdown",
   "id": "1c649526",
   "metadata": {},
   "source": [
    "<div style=\"width: 80%; padding: .5em 1.5em;\n",
    "            margin: .5em 2em .5em 2em;\n",
    "            border-radius: 12pt; border-color: black; \n",
    "            border-style: solid;\">\n",
    "    <b style=\"font-variant: small-caps; text-decoration: underline;\">Exercice:</b>\n",
    "     <ul>\n",
    "    <li> Créer une liste <code>annee</code> avec les 12 mois de l'annee\n",
    "    <li> Faire afficher sur la même ligne <code>juin</code>  et <code>décembre</code>\n",
    "    <li> Quel est le type de l'objet correspondant? On pourra vérifier la réponse avec <code>type</code>\n",
    "    <li> Avec des commandes de sélection les plus simples possibles, faire afficher les mois d'été (juin, juil., août), puis les mois d'hiver (jen., fév., mars)\n",
    "    <li> Renverser la liste annee avec le fancy indexing?\n",
    "    <li> Prendre 1 lettre sur 3 de <code>janvier</code> à partir de la lettre <code>a</code>\n",
    "    </ul>\n",
    "</div>"
   ]
  },
  {
   "cell_type": "markdown",
   "id": "2345c989",
   "metadata": {},
   "source": [
    "**SOLUTIONS !!!**\n"
   ]
  },
  {
   "cell_type": "code",
   "execution_count": 170,
   "id": "df3064b4",
   "metadata": {},
   "outputs": [],
   "source": [
    "# Créer la liste annee:\n",
    "\n",
    "# annee = ['janvier','février','mars','avril','mai','juin','juillet','août','septembre','octobre','novembre','décembre']"
   ]
  },
  {
   "cell_type": "code",
   "execution_count": 171,
   "id": "d2abfd56",
   "metadata": {},
   "outputs": [],
   "source": [
    "# Indexing: afficher juin (5ème position) et décembre (dernière position):\n",
    "\n",
    "# annee[5], annee[-1]"
   ]
  },
  {
   "cell_type": "code",
   "execution_count": 172,
   "id": "267f9455",
   "metadata": {},
   "outputs": [],
   "source": [
    "# Quel est le type de l'objet ?\n",
    "\n",
    "# t = annee[5], annee[-1]\n",
    "\n",
    "# type(t)"
   ]
  },
  {
   "cell_type": "code",
   "execution_count": 173,
   "id": "6eebc3b3-eb59-4cdc-81be-476dcaa7d51a",
   "metadata": {},
   "outputs": [],
   "source": [
    "# Slicing: afficher les mois d'été (juin, juillet, août) :\n",
    "\n",
    "# annee[5:8:1]"
   ]
  },
  {
   "cell_type": "code",
   "execution_count": 174,
   "id": "14cfd314-5506-459e-b9ce-f57f60b3af11",
   "metadata": {},
   "outputs": [],
   "source": [
    "# Slicing: afficher les mois d'hiver (janvier, février, mars) :\n",
    "\n",
    "# annee[0:3:1]"
   ]
  },
  {
   "cell_type": "markdown",
   "id": "01b65e70",
   "metadata": {},
   "source": [
    "En Python, une **méthode** est une fonction qui appartient à un objet (en général à une classe).  \n",
    "Une fonction, quant à elle, peut être définie de manière indépendante à un objet.\n",
    "\n",
    "La différence principale entre une méthode et une fonction est donc la suivante : Les méthodes sont définies à l'intérieur d'une classe. \n",
    "Les **fonctions**, quant à elles, peuvent être définies n'importe où dans un programme Python et donc être appleées de manière indépendante.\n",
    "\n",
    "Par exemple, la fonction **append()** est une méthode de la **classe list**. Elle est utilisée pour ajouter un élément à une liste.  \n",
    "La fonction print(), quant à elle, n'est pas une méthode. Elle peut être appelée de manière indépendante, sans avoir besoin d'un objet.\n",
    "\n",
    "La notation semaine.method() (`comme semaine.append()`, `semaine.sort()`) est un exemple de la <u>programmation orientée objet</u>. Comme `semaine` est une `list`, elle a la méthode `xxx` appelée avec la notation `.`.\n",
    "\n",
    "Pour découvrir les méthodes disponibles, on peut utiliser la tab-completion:"
   ]
  },
  {
   "cell_type": "markdown",
   "id": "1612422d",
   "metadata": {},
   "source": [
    "`.append(value)` ajoute une valeur à la fin de la liste"
   ]
  },
  {
   "cell_type": "code",
   "execution_count": 175,
   "id": "a7c8465c-2315-43b8-8b77-35b810e9467a",
   "metadata": {},
   "outputs": [],
   "source": [
    "# to add an element at the end of the list"
   ]
  },
  {
   "cell_type": "code",
   "execution_count": 176,
   "id": "27111e46-61d3-4bff-96ba-092dda915c76",
   "metadata": {},
   "outputs": [],
   "source": [
    "# semaine.append('lundi')\n",
    "\n",
    "# print(semaine)"
   ]
  },
  {
   "cell_type": "code",
   "execution_count": 177,
   "id": "f8d7bbcb-9b28-4620-9737-f514bde54b34",
   "metadata": {},
   "outputs": [],
   "source": [
    "# l = [17, 15, 8, 4, 2]\n",
    "\n",
    "# l.append(6)\n",
    "\n",
    "# l"
   ]
  },
  {
   "cell_type": "markdown",
   "id": "b4143a8e-73cb-4154-9fe5-9866428ff8bf",
   "metadata": {},
   "source": [
    "`.insert(i, value)` insert une valeur à l'indice i"
   ]
  },
  {
   "cell_type": "code",
   "execution_count": 178,
   "id": "bafff980-5d76-4e94-868c-1f66de02ed3e",
   "metadata": {},
   "outputs": [],
   "source": [
    "# to add a value at a certain index of the list \n",
    "\n",
    "# l.insert(2, 100)\n",
    "\n",
    "# l"
   ]
  },
  {
   "cell_type": "markdown",
   "id": "cf5d8307-313b-4d06-8e5c-b399abc66a8d",
   "metadata": {},
   "source": [
    "`.remove(value)` supprime la valeur d'une liste"
   ]
  },
  {
   "cell_type": "code",
   "execution_count": 179,
   "id": "df35fe4b-76c9-4122-8f4b-a01094a073c7",
   "metadata": {},
   "outputs": [],
   "source": [
    "# to add a value at a certain index of the list \n",
    "\n",
    "# l.remove(100)\n",
    "\n",
    "# l"
   ]
  },
  {
   "cell_type": "markdown",
   "id": "8e22e45f",
   "metadata": {},
   "source": [
    "`.pop(i)` extrait la valeur de l'indice i"
   ]
  },
  {
   "cell_type": "code",
   "execution_count": 180,
   "id": "adc8cbe9",
   "metadata": {},
   "outputs": [],
   "source": [
    "# to delete an element of the list thanks to its index\n",
    "\n",
    "# semaine.pop(0)\n",
    "\n",
    "# print(semaine)"
   ]
  },
  {
   "cell_type": "markdown",
   "id": "bd35592f",
   "metadata": {},
   "source": [
    "`.extend()` étend la liste grâce à une liste de valeurs"
   ]
  },
  {
   "cell_type": "code",
   "execution_count": 181,
   "id": "880316eb",
   "metadata": {},
   "outputs": [],
   "source": [
    "# extend to add a new list to our list\n",
    "\n",
    "# semaine.extend(['samedi', 'dimanche'])\n",
    "\n",
    "# print(semaine)"
   ]
  },
  {
   "cell_type": "markdown",
   "id": "0e1d18bf-c022-4b51-aa53-6641efeaf54b",
   "metadata": {},
   "source": [
    "`.reverse()` inverse la liste"
   ]
  },
  {
   "cell_type": "code",
   "execution_count": 182,
   "id": "85cbd46d-96f5-4bdb-a194-2e6e1fdbeae1",
   "metadata": {},
   "outputs": [],
   "source": [
    "# annee.reverse()\n",
    "\n",
    "# print(annee)"
   ]
  },
  {
   "cell_type": "markdown",
   "id": "3da0ea9f",
   "metadata": {},
   "source": [
    "`.sort()` tri une liste par ordre ascendant"
   ]
  },
  {
   "cell_type": "code",
   "execution_count": 183,
   "id": "6c9eaa7e",
   "metadata": {},
   "outputs": [],
   "source": [
    "# # To sort in an alphabetic order:\n",
    "\n",
    "# semaine = ['lundi', 'mardi', 'mercredi', 'jeudi', 'vendredi', 'samedi', 'dimanche']\n",
    "\n",
    "# print('Semaine normale: ', semaine)\n",
    "\n",
    "# semaine.sort() # sort by alphabetic order\n",
    "\n",
    "# print('Semaine triée par ordre alphabétique: ', semaine)\n"
   ]
  },
  {
   "cell_type": "code",
   "execution_count": 184,
   "id": "fca3bb73",
   "metadata": {},
   "outputs": [],
   "source": [
    "# # Tri par ordre anti-alphabétique:\n",
    "\n",
    "# semaine.sort(reverse=True)\n",
    "\n",
    "# print(semaine)"
   ]
  },
  {
   "cell_type": "code",
   "execution_count": 185,
   "id": "c39d8b99-7836-493a-a525-8070b319c4b6",
   "metadata": {},
   "outputs": [],
   "source": [
    "# To sort l ascending only (croissant) and affect to l:\n",
    "\n",
    "# l = [17, 60, 8, 4, 2, 6]\n",
    "\n",
    "# l.sort()\n",
    "\n",
    "# l"
   ]
  },
  {
   "cell_type": "markdown",
   "id": "1da6e003-a8e0-4243-bfd2-28799715e3f2",
   "metadata": {},
   "source": [
    "`sorted()`"
   ]
  },
  {
   "cell_type": "code",
   "execution_count": 186,
   "id": "48c474eb-2d02-4322-bcb4-7ea9a019cda1",
   "metadata": {},
   "outputs": [],
   "source": [
    "# To sort l ascending only (croissant) but WITHOUT affecting to l:\n",
    "\n",
    "# l = [17, 60, 8, 4, 2, 6]\n",
    "\n",
    "# sorted(l)"
   ]
  },
  {
   "cell_type": "code",
   "execution_count": 187,
   "id": "4e969b93-daeb-4141-b169-f19566467fbc",
   "metadata": {},
   "outputs": [],
   "source": [
    "# l"
   ]
  },
  {
   "cell_type": "markdown",
   "id": "ed3ae5c6",
   "metadata": {},
   "source": [
    "`.index(valeur)` renvoie l'indice de la valeur val"
   ]
  },
  {
   "cell_type": "code",
   "execution_count": 188,
   "id": "db5e6a14",
   "metadata": {},
   "outputs": [],
   "source": [
    "# annee.index('mars')"
   ]
  },
  {
   "cell_type": "markdown",
   "id": "0eda04bd-4d2c-4e3f-aa1a-45f1d5e94aa7",
   "metadata": {},
   "source": [
    "`.remove(valeur)` retire la première occurrence de la valeur val de la liste"
   ]
  },
  {
   "cell_type": "code",
   "execution_count": 189,
   "id": "0ea4029c-467c-4982-bb90-965382edcdd9",
   "metadata": {},
   "outputs": [],
   "source": [
    "# l = [17, 60, 8, 4, 2, 60, 5]\n",
    "# l.remove(60)\n",
    "# l"
   ]
  },
  {
   "cell_type": "markdown",
   "id": "8eb9643e-5282-4e5a-aad0-dcac6177fed7",
   "metadata": {},
   "source": [
    "`.count(valeur)` renvoie le nombre d'occurences de valeur"
   ]
  },
  {
   "cell_type": "code",
   "execution_count": 190,
   "id": "8f424f5f-d7b9-4526-b4ea-d4e8a1f4d418",
   "metadata": {},
   "outputs": [],
   "source": [
    "# Pour compter le nombre de fois qu'un élément apparaît dans une liste:\n",
    "\n",
    "# semaine.count?"
   ]
  },
  {
   "cell_type": "code",
   "execution_count": 191,
   "id": "4a2fc386",
   "metadata": {},
   "outputs": [],
   "source": [
    "# Comptez le nombre de lundi:\n",
    "\n",
    "# semaine.count('lundi')"
   ]
  },
  {
   "cell_type": "markdown",
   "id": "16238278-3720-4c4e-a516-c8c3bde702f2",
   "metadata": {},
   "source": [
    "`in` pour savoir si une valeur est dans la liste"
   ]
  },
  {
   "cell_type": "code",
   "execution_count": 192,
   "id": "5f8ce81c",
   "metadata": {},
   "outputs": [],
   "source": [
    "# Est-ce que lundi est un élément de la liste:\n",
    "\n",
    "# 'lundi' in semaine"
   ]
  },
  {
   "cell_type": "markdown",
   "id": "12d216fa-2a37-4741-ab15-db3284e73b2c",
   "metadata": {},
   "source": [
    "`len(liste)`"
   ]
  },
  {
   "cell_type": "code",
   "execution_count": 193,
   "id": "732752ab-d691-4c35-beb1-1c4eaec5c557",
   "metadata": {},
   "outputs": [],
   "source": [
    "# Pour compter le nombre d'éléments d'une liste:\n",
    "\n",
    "# len(semaine)"
   ]
  },
  {
   "cell_type": "markdown",
   "id": "97f590fc-a219-4cf3-b102-f9dce7698499",
   "metadata": {},
   "source": [
    "`List comprehension` une façon \"pythonesque\" de générer une liste"
   ]
  },
  {
   "cell_type": "code",
   "execution_count": 194,
   "id": "6addc7ee-154f-4578-b2ef-a2ac5ba617ca",
   "metadata": {},
   "outputs": [],
   "source": [
    "# Exercice: Créer une liste contenant cinq fois le nombre 2\n",
    "\n",
    "# l = [2] * 5\n",
    "\n",
    "# l"
   ]
  },
  {
   "cell_type": "code",
   "execution_count": 195,
   "id": "dde2f171-e794-4c31-9a9a-fd971289af62",
   "metadata": {},
   "outputs": [],
   "source": [
    "# Exercice: Créer une liste contenant cinq fois le nombre 2 pouis deux fois le nombre 3 puis 7 fois le nombre 4\n",
    "\n",
    "# l = [2] * 5 + [3] * 2 + [4] * 7\n",
    "\n",
    "# l"
   ]
  },
  {
   "cell_type": "code",
   "execution_count": 196,
   "id": "22ee67ce",
   "metadata": {},
   "outputs": [],
   "source": [
    "# Exercice (difficile): créer une liste contenant les entiers de 0 à 9 grâce aux fonctions list() et range():\n",
    "\n",
    "# l = list(range(10))\n",
    "\n",
    "# l"
   ]
  },
  {
   "cell_type": "code",
   "execution_count": 197,
   "id": "b19773b9-d280-4201-a6c5-6372a7c1c33f",
   "metadata": {},
   "outputs": [],
   "source": [
    "# Exercice (difficile): créer une liste contenant les entiers de 4 à 15 grâce aux fonctions list() et range():\n",
    "\n",
    "# l = list(range(4, 16))\n",
    "\n",
    "# l"
   ]
  },
  {
   "cell_type": "code",
   "execution_count": 198,
   "id": "02b3176e-eea6-4a42-b320-3631f23b79a4",
   "metadata": {},
   "outputs": [],
   "source": [
    "# # Exercice (difficile): créer une liste contenant les entiers de 0 à 9 grâce à la fonction range() et la structure for:\n",
    "\n",
    "# l = [i for i in range(10)]\n",
    "\n",
    "# l"
   ]
  },
  {
   "cell_type": "code",
   "execution_count": 199,
   "id": "b95e8b23",
   "metadata": {},
   "outputs": [],
   "source": [
    "# # Créer une liste contenant les carrés des 10 premiers entiers avec range():\n",
    "\n",
    "# l2 = [i**2 for i in range(10)]\n",
    "\n",
    "# l2"
   ]
  },
  {
   "cell_type": "code",
   "execution_count": 200,
   "id": "1ed5133c",
   "metadata": {},
   "outputs": [],
   "source": [
    "# # Exercice (difficile): créer une liste contenant les entiers de 0 à 9 grâce à la fonction append() et la structure for:\n",
    "\n",
    "# # Initialisation de la liste l:\n",
    "\n",
    "# l = []\n",
    "\n",
    "# # Avec la boucle for, le passage à la ligne nécessite de respecter l'indentation:\n",
    "\n",
    "# for i in range(10):\n",
    "#     l.append(i)\n",
    "\n",
    "# l"
   ]
  },
  {
   "cell_type": "code",
   "execution_count": 201,
   "id": "250b3580-544b-4ec6-8673-210aa9b22f81",
   "metadata": {},
   "outputs": [],
   "source": [
    "# Exercice: créer une liste contenant tous les caractères du mon \"bonjour\"\n",
    "\n",
    "# l = list(\"bonjour\")\n",
    "\n",
    "# l"
   ]
  },
  {
   "cell_type": "markdown",
   "id": "c2888e9b-8b04-44c7-bb3c-fdcea6e898b7",
   "metadata": {},
   "source": [
    "`Matrices as list of lists`"
   ]
  },
  {
   "cell_type": "markdown",
   "id": "2665a9ea-a6d6-4028-9cd8-d2daecd7ce03",
   "metadata": {},
   "source": [
    "$ \\begin{pmatrix}\n",
    "1 & 0 & 0 \\\\\n",
    "0 & 1 & 0 \\\\\n",
    "0 & 0 & 1\n",
    "\\end{pmatrix} $"
   ]
  },
  {
   "cell_type": "code",
   "execution_count": 202,
   "id": "06b0c8b7-02d5-48d8-b854-073dc4526f2e",
   "metadata": {},
   "outputs": [],
   "source": [
    "# Exercice: écrire la matrice identité 3x3\n",
    "\n",
    "# m = [[1, 0, 0], [0, 1, 0], [0, 0, 1]]\n",
    "\n",
    "# m"
   ]
  },
  {
   "cell_type": "code",
   "execution_count": 203,
   "id": "d2d329c8-b3a0-463c-82d3-2c561048e355",
   "metadata": {},
   "outputs": [],
   "source": [
    "# Indexing: ligne 2\n",
    "\n",
    "# m[1]"
   ]
  },
  {
   "cell_type": "code",
   "execution_count": 204,
   "id": "13c81a08-08e3-4d59-bd9d-581460d38848",
   "metadata": {},
   "outputs": [],
   "source": [
    "# Indexing: ligne 2 colonne 2\n",
    "\n",
    "# m[1][1]"
   ]
  },
  {
   "cell_type": "markdown",
   "id": "6194c6ef",
   "metadata": {},
   "source": [
    "### Les strings"
   ]
  },
  {
   "cell_type": "markdown",
   "id": "e5123b83-35fc-495e-9e42-4cf30df16f6a",
   "metadata": {},
   "source": [
    "https://docs.python.org/3/library/string.html  \n",
    "\n",
    "Les chaînes de caractèers en Python sont codées par défaut en Unicode.  \n",
    "https://realpython.com/lessons/python-unicode-overview/"
   ]
  },
  {
   "cell_type": "code",
   "execution_count": 205,
   "id": "d165d9c9-d01d-47cd-8332-ae28fabbed87",
   "metadata": {},
   "outputs": [],
   "source": [
    "# Les chaînes de caractère (strings) sont en fait des listes de caractères."
   ]
  },
  {
   "cell_type": "code",
   "execution_count": 206,
   "id": "6669e8d9-7dc2-48de-9b43-644bfdef1b0b",
   "metadata": {},
   "outputs": [],
   "source": [
    "# Il y a trois manières de déclarer une chaîne de caractères:\n",
    "# La troisième manière permet d'avoir des chaînes de caractères sur plusieurs lignes.\n",
    "# On utilise plutôt la première manière.\n",
    "\n",
    "# chaine1 = \"Hello, how are you?\"\n",
    "# chaine2 = 'Hello, how are you?'\n",
    "# chaine3 = \"\"\"Hello, how are \n",
    "# you?\"\"\"\n"
   ]
  },
  {
   "cell_type": "code",
   "execution_count": 207,
   "id": "e95f9902-3b96-4359-b333-4176a46ae2c0",
   "metadata": {},
   "outputs": [],
   "source": [
    "# chaine1"
   ]
  },
  {
   "cell_type": "code",
   "execution_count": 208,
   "id": "5a74e510-c56b-4e75-8824-888574225b38",
   "metadata": {},
   "outputs": [],
   "source": [
    "# chaine3"
   ]
  },
  {
   "cell_type": "markdown",
   "id": "36b749e4",
   "metadata": {},
   "source": [
    "`string indexing`"
   ]
  },
  {
   "cell_type": "code",
   "execution_count": 209,
   "id": "ddbc81f1",
   "metadata": {},
   "outputs": [],
   "source": [
    "# Afficher le premier caractère de la chaïne de caractères 1:\n",
    "\n",
    "# chaine1[0]"
   ]
  },
  {
   "cell_type": "markdown",
   "id": "01203866",
   "metadata": {},
   "source": [
    "`string slicing`"
   ]
  },
  {
   "cell_type": "code",
   "execution_count": 210,
   "id": "90cd6a44-3a01-4c7b-a4ea-907da459ac2a",
   "metadata": {},
   "outputs": [
    {
     "data": {
      "text/plain": [
       "'Hello, how are you?'"
      ]
     },
     "execution_count": 210,
     "metadata": {},
     "output_type": "execute_result"
    }
   ],
   "source": [
    "chaine1"
   ]
  },
  {
   "cell_type": "code",
   "execution_count": 211,
   "id": "de249ec0",
   "metadata": {},
   "outputs": [],
   "source": [
    "# Afficher les caractères de la liste s de 2 en 2:\n",
    "\n",
    "# chaine1[0::2]"
   ]
  },
  {
   "cell_type": "markdown",
   "id": "2a693212",
   "metadata": {},
   "source": [
    "Un _string_ est un object `immutable`."
   ]
  },
  {
   "cell_type": "code",
   "execution_count": 212,
   "id": "94168266",
   "metadata": {},
   "outputs": [],
   "source": [
    "# Essayons de le modifier:\n",
    "\n",
    "# s = \"hello Babar\"\n",
    "\n",
    "# s[1] = 'a'"
   ]
  },
  {
   "cell_type": "markdown",
   "id": "51474f20-d679-42c2-91a7-fee856fb83d7",
   "metadata": {},
   "source": [
    "`.replace()` remplace les éléments recherchés dans la chaîne de caractères"
   ]
  },
  {
   "cell_type": "code",
   "execution_count": 213,
   "id": "48f70eea",
   "metadata": {},
   "outputs": [],
   "source": [
    "# s = s.replace('e', 'a', 1)\n",
    "\n",
    "# print(s)"
   ]
  },
  {
   "cell_type": "code",
   "execution_count": 214,
   "id": "1f94a2e6",
   "metadata": {},
   "outputs": [],
   "source": [
    "# s = s.replace('a', 'o')\n",
    "\n",
    "# print(s)"
   ]
  },
  {
   "cell_type": "markdown",
   "id": "b5e8c880-0fa9-4095-8ef0-6b8d02b62654",
   "metadata": {},
   "source": [
    "`.split()` sépare les éléments de la chaîne de caractères avec l'espace"
   ]
  },
  {
   "cell_type": "code",
   "execution_count": 215,
   "id": "046e6c7b",
   "metadata": {},
   "outputs": [],
   "source": [
    "# s.split()"
   ]
  },
  {
   "cell_type": "code",
   "execution_count": 216,
   "id": "985bae37",
   "metadata": {},
   "outputs": [],
   "source": [
    "# s.split()[0]"
   ]
  },
  {
   "cell_type": "markdown",
   "id": "5943ae1b-ae7e-4c34-89f5-e7b1dfa00649",
   "metadata": {},
   "source": [
    "D'autres méthodes de chaînes de caractères:"
   ]
  },
  {
   "cell_type": "markdown",
   "id": "bbb670f7-2da9-439d-abbd-b8ad062a8069",
   "metadata": {},
   "source": [
    "|Méthode| Objectif|\n",
    "|-------|------|\n",
    "|**.upper()** / **.lower()** / **.capitalize()**| Gestion des majuscules, minuscules |\n",
    "|**.count(val)**| Comptage du nombre d'occurences de val|\n",
    "|**.find()**| Recherche un élément de la chaîne de caractères en renvoyant l'index si l'élément est trouvé ou 0 sinon|\n",
    "|**.lstrip()** / **.rstrip()** / **.strip()** | Elimination des espaces en début / fin / début et fin de chaînes de caractères|\n"
   ]
  },
  {
   "cell_type": "markdown",
   "id": "feb25145",
   "metadata": {},
   "source": [
    "**Formatage des chaînes de caractères:**"
   ]
  },
  {
   "cell_type": "code",
   "execution_count": 219,
   "id": "db84d1e1",
   "metadata": {},
   "outputs": [],
   "source": [
    "# 'An integer: %i; a float: %f; another string: %s' % (1, 0.1, 'string')"
   ]
  },
  {
   "cell_type": "code",
   "execution_count": 220,
   "id": "369da578",
   "metadata": {},
   "outputs": [],
   "source": [
    "# 'An integer: %i; a float: %10.3f; another string: %s' % (1, 0.1, 'string')"
   ]
  },
  {
   "cell_type": "code",
   "execution_count": 221,
   "id": "56d6b758",
   "metadata": {},
   "outputs": [],
   "source": [
    "# La méthode \"moderne\":\n",
    "\n",
    "# cours = \"python\"\n",
    "# jour = 29.0\n",
    "\n",
    "# print(f\"Aujourd'hui, le {jour:.0f}, nous avons cours de {cours}\")"
   ]
  },
  {
   "cell_type": "code",
   "execution_count": 222,
   "id": "cf59fcec",
   "metadata": {},
   "outputs": [],
   "source": [
    "# définir la string: <metrics> du modèle est <score>\n",
    "\n",
    "# score = 0.99\n",
    "# metrics = \"accuracy\"\n",
    "\n",
    "# f\"{metrics} du modèle est {score}\""
   ]
  },
  {
   "cell_type": "markdown",
   "id": "87a48af3",
   "metadata": {},
   "source": [
    "### Les dictionnaires\n",
    "\n",
    "Les dictionnaires sont des structures sans indexe mais avec des clés permettant un stockage clé-valeur.  \n",
    "Dans un dictionnaire on va accéder à un élément en utilisant une clé définie lors de la création du dictionnaire alors que dans une liste (ou une chaîne de caractères) on accéde aux éléments en utilisant leur position (indexing). Comme un dictionnaire n'est pas une séquence ordonnée il n'y a pas de méthode append car on ne raisonne en terme de position (indexes).  \n",
    "\n",
    "\n",
    "Un dictionnaire est défini par des accolades {} et l'affectation se fait par {clé: valeurs}.  \n",
    "\n",
    "Exemple dictionnaire de traduction anglais/français\n",
    "Les dictionnaires sont des mappings entre la clé et ses valeurs hétérogènes comme les listes"
   ]
  },
  {
   "cell_type": "code",
   "execution_count": 223,
   "id": "5cb51bd6",
   "metadata": {},
   "outputs": [],
   "source": [
    "# d = {}"
   ]
  },
  {
   "cell_type": "code",
   "execution_count": 88,
   "id": "2adbeb8f-08ab-4b1d-95eb-7fc5eab4610d",
   "metadata": {},
   "outputs": [],
   "source": [
    "# type(d)"
   ]
  },
  {
   "cell_type": "code",
   "execution_count": 138,
   "id": "d27c6369",
   "metadata": {},
   "outputs": [],
   "source": [
    "# Le dictionnaire ne demande aucune homogénéité de type dans les valeurs.\n",
    "\n",
    "# dd = {'jour': 19, 'mois': 'Octobre'}\n",
    "\n",
    "# dd"
   ]
  },
  {
   "cell_type": "code",
   "execution_count": 139,
   "id": "2b65cdd5",
   "metadata": {},
   "outputs": [],
   "source": [
    "# Pour ajouter une clé à un dictionnaire:\n",
    "\n",
    "# dd['annees'] = [2017, 2018]\n",
    "\n",
    "# dd"
   ]
  },
  {
   "cell_type": "code",
   "execution_count": 140,
   "id": "5ddb8521-835b-4c1c-b612-e08d61c4afba",
   "metadata": {},
   "outputs": [],
   "source": [
    "# Ou modifier une clé à un dictionnaire:\n",
    "\n",
    "# dd['annees'] = [2019, 2020]\n",
    "\n",
    "# dd"
   ]
  },
  {
   "cell_type": "code",
   "execution_count": 125,
   "id": "3392bfbe",
   "metadata": {},
   "outputs": [],
   "source": [
    "# Pour afficher toutes les clés du dictionnaire:\n",
    "\n",
    "# dd.keys()"
   ]
  },
  {
   "cell_type": "code",
   "execution_count": 126,
   "id": "91f863e4",
   "metadata": {},
   "outputs": [],
   "source": [
    "# Pour afficher toutes les valeurs du dictionnaire:\n",
    "\n",
    "# dd.values()"
   ]
  },
  {
   "cell_type": "code",
   "execution_count": 130,
   "id": "5601e9ee",
   "metadata": {},
   "outputs": [],
   "source": [
    "# Pour afficher toutes les clés / valeurs du dictionnaire\n",
    "\n",
    "# dd.items()"
   ]
  },
  {
   "cell_type": "code",
   "execution_count": 131,
   "id": "49cce43f-acdc-46bf-941b-29588ccad3a8",
   "metadata": {},
   "outputs": [],
   "source": [
    "# Pour supprimer une clé d'un dictionnaire\n",
    "\n",
    "# del dd['annees']\n",
    "\n",
    "# dd"
   ]
  },
  {
   "cell_type": "markdown",
   "id": "460cecb7-e60e-4ae6-99ad-b574b59e9e8a",
   "metadata": {},
   "source": [
    "Compléments"
   ]
  },
  {
   "cell_type": "code",
   "execution_count": 146,
   "id": "8eb03cab-193f-43b5-8dec-a399aaa49097",
   "metadata": {},
   "outputs": [],
   "source": [
    "# Pour accéder à la valeur de la clé année:\n",
    "\n",
    "# dd['annees']"
   ]
  },
  {
   "cell_type": "code",
   "execution_count": 147,
   "id": "6e05dc7d-b350-4a80-ab76-72cf5c536790",
   "metadata": {},
   "outputs": [],
   "source": [
    "# Si on souhaitait accéder à la valeur de la clé \"trimestre\"\n",
    "\n",
    "# dd['trimestre']"
   ]
  },
  {
   "cell_type": "code",
   "execution_count": 148,
   "id": "319fa33e-dec8-4bb2-995c-06b4f3332dde",
   "metadata": {},
   "outputs": [],
   "source": [
    "# dd['trimestre'] retourne une erreur car la clé n'existe pas\n",
    "# La fonction get permet d'éviter le retour erreur car elle ne retournera la valeur que si la clé existe sinon elle retournera 'None'\n",
    "\n",
    "# print(dd.get(\"trimestre\")) # retournera 'None' si la clé n'existe pas et la valeur sinon\n",
    "# print(dd.get('trimestre',1)) # si plutôt que None je veux qu'elle retourne 1"
   ]
  },
  {
   "cell_type": "markdown",
   "id": "59498136-f2dc-4575-96f6-b180268273fc",
   "metadata": {},
   "source": [
    "**nester des dictionnaries** i.e. dictionnaires de dictionnaires"
   ]
  },
  {
   "cell_type": "markdown",
   "id": "78323d8f-e52a-4054-96b7-12e65eaabd11",
   "metadata": {},
   "source": [
    "Comme les listes on peut nester les dictionnaires."
   ]
  },
  {
   "cell_type": "code",
   "execution_count": 149,
   "id": "c7c3f6cc-ee97-497d-922d-f54ba743481f",
   "metadata": {},
   "outputs": [],
   "source": [
    "# # la clé doit être unique !!!\n",
    "\n",
    "# traduction1 = {\n",
    "#     \"chien\": \"dog\",\n",
    "#     \"chat\": \"cat\"}\n",
    "\n",
    "# traduction2 = {\n",
    "#     \"souris\": \"mouse\",\n",
    "#     \"oiseau\": \"bird\"\n",
    "#     }\n",
    "\n",
    "# traduction = {\n",
    "#     \"dict_1\": traduction1,\n",
    "#     \"dict_2\": traduction2}\n",
    "\n",
    "# traduction"
   ]
  },
  {
   "cell_type": "code",
   "execution_count": 150,
   "id": "b60e09ff-0c78-4b63-8bcc-74db3107f8f1",
   "metadata": {},
   "outputs": [],
   "source": [
    "# Longueur du dictionnaire:\n",
    "\n",
    "# len(traduction)"
   ]
  },
  {
   "cell_type": "markdown",
   "id": "dbc6f9b3-beb7-430b-9308-2608837ff655",
   "metadata": {},
   "source": [
    "`dictionnary comprehension`"
   ]
  },
  {
   "cell_type": "code",
   "execution_count": 167,
   "id": "5d68d630-aa3c-42cc-8211-c441ffadcfe7",
   "metadata": {},
   "outputs": [],
   "source": [
    "# Créer un dictionnaire à partir d'une liste\n",
    "\n",
    "# liste_1 = ('Paris','Londres','Berlin')\n",
    "\n",
    "# dico_1 = dict.fromkeys(liste_1) \n",
    "\n",
    "# dico_1"
   ]
  },
  {
   "cell_type": "code",
   "execution_count": 168,
   "id": "c768a496-a66c-4ea9-9ddb-18ebb84dabb4",
   "metadata": {},
   "outputs": [],
   "source": [
    "# pour mettre une valeur par défaut plutôt que None\n",
    "\n",
    "# dico_1 = dict.fromkeys(liste_1, \"valeur_defaut\")\n",
    "\n",
    "# dico_1"
   ]
  },
  {
   "cell_type": "code",
   "execution_count": 169,
   "id": "0624afe5-bac3-4385-bf9a-3f672b8bee02",
   "metadata": {},
   "outputs": [],
   "source": [
    "# la méthode pop() permet de supprimer un élément du dictionnaire et de récupérer sa valeur (méthode pop valable aussi pour les listes)\n",
    "\n",
    "# londres = dico_1.pop('Londres')\n",
    "\n",
    "# print(londres) # contient la valeur None\n",
    "\n",
    "# print(dico_1) # ne contient plus Londres"
   ]
  },
  {
   "cell_type": "code",
   "execution_count": 330,
   "id": "f848565e",
   "metadata": {},
   "outputs": [],
   "source": [
    "# Créer un dictionnaire à partir d'une liste et de la fonction enumerate().  \n",
    "\n",
    "# prenoms = ['Diego','Marta','Julia','Sofia']\n",
    "\n",
    "# dico = {k:v for k,v in enumerate(prenoms)}\n",
    "\n",
    "# dico"
   ]
  },
  {
   "cell_type": "code",
   "execution_count": 333,
   "id": "5dc3d6ed",
   "metadata": {},
   "outputs": [],
   "source": [
    "# Créer un dictionnaire à partir de deux listes et de la fonction zip()\n",
    "\n",
    "# ages = [24, 62, 10, 30]\n",
    "# prenoms = ['Diego','Marta','Julia','Sofia']\n",
    "\n",
    "# dico = {prenom:age for prenom, age in zip(prenoms, ages)}\n",
    "\n",
    "# dico"
   ]
  },
  {
   "cell_type": "code",
   "execution_count": 336,
   "id": "4b0d4d2c",
   "metadata": {},
   "outputs": [],
   "source": [
    "# On peut rajouter des conditions:\n",
    "\n",
    "# dico = {prenom:age for prenom, age in zip(prenoms, ages) if age >= 30}\n",
    "\n",
    "# dico"
   ]
  },
  {
   "cell_type": "markdown",
   "id": "0c03842e-fcbe-41e7-af5a-03c599fd78a5",
   "metadata": {},
   "source": [
    "<div style=\"width: 80%; padding: .5em 1.5em;\n",
    "            margin: .5em 2em .5em 2em;\n",
    "            border-radius: 12pt; border-color: black; \n",
    "            border-style: solid;\">\n",
    "    <b style=\"font-variant: small-caps; text-decoration: underline;\">Exercice:</b>\n",
    "     <ul>\n",
    "    Créer le dictionnaire suivant à partir des fonctions str() et range():\n",
    "         {'0': 0, '1': 1, '2': 4, '3': 9, '4': 16}\n",
    "    </ul>\n",
    "</div>"
   ]
  },
  {
   "cell_type": "markdown",
   "id": "617e7c95-4e76-4485-9a29-17a2d4177df8",
   "metadata": {},
   "source": [
    "SOLUTUION:"
   ]
  },
  {
   "cell_type": "code",
   "execution_count": 339,
   "id": "d9fa7606",
   "metadata": {},
   "outputs": [
    {
     "data": {
      "text/plain": [
       "{'0': 0, '1': 1, '2': 4, '3': 9, '4': 16}"
      ]
     },
     "execution_count": 339,
     "metadata": {},
     "output_type": "execute_result"
    }
   ],
   "source": [
    "dico = {str(k):k**2 for k in range(5)}\n",
    "\n",
    "dico"
   ]
  },
  {
   "cell_type": "markdown",
   "id": "0b60740d-07b5-469a-b1b9-25a886fa4d5e",
   "metadata": {},
   "source": [
    "`set()`"
   ]
  },
  {
   "cell_type": "markdown",
   "id": "ee3bc0c2-78e1-4760-b6af-c84029ea5bcb",
   "metadata": {},
   "source": [
    "Permet de créer un **ensemble** qui est une collection non ordonnée d'éléments uniques et immuables."
   ]
  },
  {
   "cell_type": "code",
   "execution_count": 317,
   "id": "a747df87",
   "metadata": {},
   "outputs": [],
   "source": [
    "# Créer un ensemble:\n",
    "\n",
    "# s = set(('blabla', 'blibli', 2, 'blabla'))\n",
    "\n",
    "# s"
   ]
  },
  {
   "cell_type": "code",
   "execution_count": 318,
   "id": "37b27aab",
   "metadata": {},
   "outputs": [],
   "source": [
    "# Différence entre deux ensembles:\n",
    "\n",
    "# s.difference(('blibli', 2))"
   ]
  },
  {
   "cell_type": "code",
   "execution_count": 319,
   "id": "766d1b99",
   "metadata": {},
   "outputs": [],
   "source": [
    "# Opérateur is ustilisé pour comparer l'identité des objets. \n",
    "\n",
    "# 3 not in s"
   ]
  },
  {
   "cell_type": "markdown",
   "id": "ac6f87eb",
   "metadata": {},
   "source": [
    "## L'assignement\n",
    "\n",
    "**Attention: un object peut avoir plusieurs noms attachés**"
   ]
  },
  {
   "cell_type": "code",
   "execution_count": 202,
   "id": "e2379b9b-c8ca-42b1-b073-d19660f8cc62",
   "metadata": {},
   "outputs": [],
   "source": [
    "# a = [2, 4, 6]\n",
    "# b = a\n",
    "# a is b"
   ]
  },
  {
   "cell_type": "markdown",
   "id": "7bad2638-a02d-4236-b4f7-d06da2470951",
   "metadata": {},
   "source": [
    "La fonction id() retourne un identifiant unique pour l'objet spécifié en argument. \n",
    " Chaque objet en Python a son propre identifiant unique. \n",
    " L'identifiant est attribué à l'objet lors de sa création."
   ]
  },
  {
   "cell_type": "code",
   "execution_count": 203,
   "id": "0ffdfc23",
   "metadata": {},
   "outputs": [],
   "source": [
    "# id?"
   ]
  },
  {
   "cell_type": "code",
   "execution_count": 204,
   "id": "3af3dee8",
   "metadata": {},
   "outputs": [],
   "source": [
    "# id(a)"
   ]
  },
  {
   "cell_type": "code",
   "execution_count": 205,
   "id": "a274789b",
   "metadata": {},
   "outputs": [],
   "source": [
    "# id(b)"
   ]
  },
  {
   "cell_type": "code",
   "execution_count": 206,
   "id": "fdd45c50",
   "metadata": {},
   "outputs": [],
   "source": [
    "# A change in b ...\n",
    "\n",
    "# b[2] = 12"
   ]
  },
  {
   "cell_type": "code",
   "execution_count": 207,
   "id": "27b01cef-e5e1-46ef-8f46-0c6e15755502",
   "metadata": {},
   "outputs": [],
   "source": [
    "# ... will affect a\n",
    "\n",
    "# a"
   ]
  },
  {
   "cell_type": "markdown",
   "id": "6e8c3b42-8c30-4357-a5df-e04a363a1f65",
   "metadata": {},
   "source": [
    "`copy()`"
   ]
  },
  {
   "cell_type": "code",
   "execution_count": 180,
   "id": "6b611ba9-7c36-4879-b9f2-7bdd1c326153",
   "metadata": {},
   "outputs": [],
   "source": [
    "# To avoid that, we use the method copy() to create a new a that can be modified without affect a:\n",
    "\n",
    "# a = [2, 4, 6]\n",
    "# b = a.copy()\n",
    "# a is b"
   ]
  },
  {
   "cell_type": "code",
   "execution_count": 181,
   "id": "327dd940-5144-4d5a-bce6-062d69bfc63f",
   "metadata": {},
   "outputs": [],
   "source": [
    "# a == b"
   ]
  },
  {
   "cell_type": "code",
   "execution_count": 204,
   "id": "e33b314f-4f66-4946-b459-5fc440c31972",
   "metadata": {},
   "outputs": [],
   "source": [
    "# id(a)"
   ]
  },
  {
   "cell_type": "code",
   "execution_count": 205,
   "id": "8ed438f8-7f4c-40e7-a190-f20196cbc6c1",
   "metadata": {},
   "outputs": [],
   "source": [
    "# id(b)"
   ]
  },
  {
   "cell_type": "code",
   "execution_count": 206,
   "id": "c4482d62-3753-4e6c-8d89-398eaf5e8034",
   "metadata": {},
   "outputs": [],
   "source": [
    "# A change in b ...\n",
    "\n",
    "# b[2] = 12"
   ]
  },
  {
   "cell_type": "markdown",
   "id": "f5306abf",
   "metadata": {},
   "source": [
    "## Les structures de contrôle"
   ]
  },
  {
   "cell_type": "markdown",
   "id": "92c7db4f",
   "metadata": {},
   "source": [
    "### `if` / `elif` / `else` "
   ]
  },
  {
   "cell_type": "markdown",
   "id": "18b09a37-4ad5-4cd3-be2d-97d84ece6b0a",
   "metadata": {},
   "source": [
    "`if` pour mettre en oeuvre une condition.\n",
    "Attention à l'indentation de votre code. On utilise un décalage de quatre espaces (généré automatiquement)."
   ]
  },
  {
   "cell_type": "code",
   "execution_count": 227,
   "id": "4f7961de",
   "metadata": {},
   "outputs": [],
   "source": [
    "# a = 4\n",
    "# b = 3\n",
    "\n",
    "# if a < b:\n",
    "#     print('Bonjour')"
   ]
  },
  {
   "cell_type": "code",
   "execution_count": 228,
   "id": "83a6afac",
   "metadata": {},
   "outputs": [],
   "source": [
    "# Généralement on s'intéresse au complément de cette condition if / else:\n",
    "\n",
    "# if a > b:\n",
    "#     print('Hi!')\n",
    "# else:\n",
    "#     print('Bybye')"
   ]
  },
  {
   "cell_type": "code",
   "execution_count": 229,
   "id": "e9b7719c",
   "metadata": {},
   "outputs": [],
   "source": [
    "# Si deux possibilités ne suffisent pas if / elif / else :\n",
    "\n",
    "# if (a == 4 and a > b):\n",
    "#     print('b smaller than 4')\n",
    "# elif (a == 4 and a <= b):\n",
    "#     print('b is greater than 4')\n",
    "# else:\n",
    "#     print('a does not equal 4')"
   ]
  },
  {
   "cell_type": "markdown",
   "id": "49809cba",
   "metadata": {},
   "source": [
    "### boucle `for`\n",
    "\n",
    "On peut itérer en utilisant un index:"
   ]
  },
  {
   "cell_type": "code",
   "execution_count": 244,
   "id": "35a55c0f-220d-47a2-bf7d-0e4711b8096f",
   "metadata": {},
   "outputs": [],
   "source": [
    "# for elem in [1, 2]:\n",
    "#     print(elem)"
   ]
  },
  {
   "cell_type": "markdown",
   "id": "1eedc684-708a-469f-afb1-d1cd6f9a01df",
   "metadata": {},
   "source": [
    "La fonction `range(start, stop, step)` permet de générer une suite de nombres."
   ]
  },
  {
   "cell_type": "code",
   "execution_count": 257,
   "id": "39dbfb2d",
   "metadata": {},
   "outputs": [],
   "source": [
    "# for i in range(10):\n",
    "#     print(i)"
   ]
  },
  {
   "cell_type": "code",
   "execution_count": 258,
   "id": "fc11348c",
   "metadata": {},
   "outputs": [],
   "source": [
    "# for i in range(10,15):\n",
    "#     print(i)"
   ]
  },
  {
   "cell_type": "code",
   "execution_count": 259,
   "id": "11582560",
   "metadata": {},
   "outputs": [],
   "source": [
    "# for i in range(10,15,2):\n",
    "#     print(i)"
   ]
  },
  {
   "cell_type": "markdown",
   "id": "7f5aaaeb",
   "metadata": {},
   "source": [
    "Assez souvent, il est préférable d'itérer sur des valeurs:"
   ]
  },
  {
   "cell_type": "code",
   "execution_count": 264,
   "id": "8e2eec7c",
   "metadata": {},
   "outputs": [],
   "source": [
    "# for word in ('cool', 'powerful', 'readable'):\n",
    "#     print('Python is %s' % word)"
   ]
  },
  {
   "cell_type": "markdown",
   "id": "ae63e913",
   "metadata": {},
   "source": [
    "On peut itérer sur n'importe quelle séquence (string, listes, keys d'un dictionnaire, lignes d'un fichier, ...)"
   ]
  },
  {
   "cell_type": "code",
   "execution_count": 268,
   "id": "74a2b95b",
   "metadata": {},
   "outputs": [],
   "source": [
    "# Inverser une chaîne de caractères:\n",
    "\n",
    "# for i in 'powerful'[::-1]:\n",
    "#     print(i)"
   ]
  },
  {
   "cell_type": "code",
   "execution_count": 288,
   "id": "e8d26a7b",
   "metadata": {},
   "outputs": [],
   "source": [
    "# Exercice: Afficher sur chaque ligne les mots de la chaîne de caractères \"Hello how are you?\"\n",
    "\n",
    "# # Cela revient à créer une liste contenant les mots de cette chaîne de caractères\n",
    "\n",
    "# # on remplace dans la chaîne de caractères les espaces par des virgules\n",
    "# message = \"Hello how are you?\".replace(' ', ',')\n",
    "\n",
    "# # # on sépare la chaîne de caractère avec le séparateur \",\". Les éléments sont mis dans une liste:\n",
    "# liste_mots = message.split(',') # returns a list\n",
    "\n",
    "# for mots in liste_mots:\n",
    "#     print(mots)"
   ]
  },
  {
   "cell_type": "code",
   "execution_count": 297,
   "id": "1cf857b8",
   "metadata": {},
   "outputs": [],
   "source": [
    "# words = ('cool', 'powerful', 'readable')\n",
    "\n",
    "# for i in range(0, len(words)):\n",
    "#     print((i, words[i]))"
   ]
  },
  {
   "cell_type": "markdown",
   "id": "0037c7b2-6ddf-4cff-9fe2-c4ef1d297723",
   "metadata": {},
   "source": [
    "La fonction `enumerate()` renvoie l'indice et l'élément d'une liste"
   ]
  },
  {
   "cell_type": "code",
   "execution_count": 298,
   "id": "d188f874",
   "metadata": {},
   "outputs": [],
   "source": [
    "# for index, item in enumerate(words):\n",
    "#     print((index, item))"
   ]
  },
  {
   "cell_type": "code",
   "execution_count": 290,
   "id": "2036d18b-063a-49e7-b9f0-a70a8050d7b6",
   "metadata": {},
   "outputs": [],
   "source": [
    "# semaine = ['lundi','mardi','mercredi','jeudi','vendredi','samedi','dimanche']\n",
    "\n",
    "# for i, jour in enumerate(semaine):\n",
    "#     print(i, jour)"
   ]
  },
  {
   "cell_type": "markdown",
   "id": "aba1b2fe-db94-490d-bd34-72ba3b929ab7",
   "metadata": {},
   "source": [
    "La fonction `zip()` permet de coupler des listes et d'itérer simultanément sur les éléments de ces listes"
   ]
  },
  {
   "cell_type": "code",
   "execution_count": 299,
   "id": "f89e6815-b31d-4747-a103-6b8c1a284f2e",
   "metadata": {},
   "outputs": [],
   "source": [
    "# for jour, meteo in zip(['lundi', 'mardi', 'mercredi'], ['mauvais', 'beau', 'beau']):\n",
    "#     print(\"{} il fera {}\".format(jour.capitalize(), meteo)) "
   ]
  },
  {
   "cell_type": "code",
   "execution_count": 300,
   "id": "607ff304",
   "metadata": {},
   "outputs": [],
   "source": [
    "# # Que se passe-t-il si les listes sont de longeur (len()) différentes:\n",
    "\n",
    "# semaine = ['lundi','mardi','mercredi','jeudi','vendredi','samedi','dimanche']\n",
    "# planning = ['Paris', 'Berlin', 'Londres', 'Bruxelles']\n",
    "\n",
    "# for jour, ville in zip(semaine, planning):\n",
    "#     print(\"{} nous sommes attendus à {}\".format(jour.capitalize(), ville))"
   ]
  },
  {
   "cell_type": "markdown",
   "id": "d0a5e944",
   "metadata": {},
   "source": [
    "On peut itérer sur un dictionnaire:"
   ]
  },
  {
   "cell_type": "code",
   "execution_count": 302,
   "id": "baf11397",
   "metadata": {},
   "outputs": [],
   "source": [
    "# d = {'a': 1, 'b': 1.2, 'c': 1j, 'ai': 2}\n",
    "\n",
    "# for key, val in sorted(d.items()):\n",
    "#     print('Key: {} has value: {}'.format(key, val))"
   ]
  },
  {
   "cell_type": "markdown",
   "id": "2fb008b6",
   "metadata": {},
   "source": [
    "<div style=\"width: 80%; padding: .5em 1.5em;\n",
    "            margin: .5em 2em .5em 2em;\n",
    "            border-radius: 12pt; border-color: black; \n",
    "            border-style: solid;\">\n",
    "    <b style=\"font-variant: small-caps; text-decoration: underline;\">Exercice:</b>\n",
    "     <ul>\n",
    "    Compter le nombre d'occurences de chaque charactère dans la chaîne de caractères <b>hello world!!</b>.  \n",
    "    On renverra un dictionaire qui à la lettre associe son nombre d'occurences.\n",
    "    </ul>\n",
    "</div>"
   ]
  },
  {
   "cell_type": "markdown",
   "id": "ecf77078-6fb0-4950-97c5-c9f84f2615a5",
   "metadata": {},
   "source": [
    "SOLUTION: méthode 1"
   ]
  },
  {
   "cell_type": "code",
   "execution_count": 307,
   "id": "a74328ef-1939-4334-9968-4c2659adae79",
   "metadata": {},
   "outputs": [],
   "source": [
    "# s = \"hello world!!\"\n",
    "\n",
    "# res = {}\n",
    "# for i in s:\n",
    "#     if i in res:\n",
    "#         res[i] += 1\n",
    "#     else:\n",
    "#         res[i] = 1\n",
    "\n",
    "# res"
   ]
  },
  {
   "cell_type": "markdown",
   "id": "cfaa0991-d6a7-4b92-a537-056f87e01933",
   "metadata": {},
   "source": [
    "SOLUTION: méthode 2"
   ]
  },
  {
   "cell_type": "code",
   "execution_count": 311,
   "id": "b0a2fd84-562d-4494-aa62-73e70ca2ee2b",
   "metadata": {},
   "outputs": [],
   "source": [
    "# set(s) renvoie un objet set avec les caractères de la chaîne de caractères s sans répétition\n",
    "\n",
    "# s = \"hello world!!\"\n",
    "# set(s)"
   ]
  },
  {
   "cell_type": "code",
   "execution_count": 312,
   "id": "11d6fc22",
   "metadata": {},
   "outputs": [],
   "source": [
    "# # on créé un array qui va contenir pour chaque indice le nombre de caractères correspondant au caractère:\n",
    "\n",
    "# res = {}\n",
    "\n",
    "# for c in set(s):\n",
    "#     res[c] = s.count(c)\n",
    "# print(res)"
   ]
  },
  {
   "cell_type": "markdown",
   "id": "73231bf8-5f6e-4fc5-b68e-7715440bbeb7",
   "metadata": {},
   "source": [
    "Dictionnaire et boucle **for**"
   ]
  },
  {
   "cell_type": "code",
   "execution_count": 340,
   "id": "7b3321b5",
   "metadata": {},
   "outputs": [],
   "source": [
    "# dico = {'10': 'Peter', '11': 'Jean', '12':'July', '13':'Sofia'}\n",
    "\n",
    "# dico"
   ]
  },
  {
   "cell_type": "code",
   "execution_count": 341,
   "id": "ba0791d4-396d-48da-af65-9e4a209958fe",
   "metadata": {},
   "outputs": [],
   "source": [
    "# Retourner la clé par ligne\n",
    "\n",
    "# for i in dico:\n",
    "#     print(i)"
   ]
  },
  {
   "cell_type": "code",
   "execution_count": 342,
   "id": "40a5ccd5-0b8a-461b-8f56-b82b6edc5231",
   "metadata": {},
   "outputs": [],
   "source": [
    "# Retourner les valeurs par ligne\n",
    "\n",
    "# for val in dico.values():\n",
    "#     print(val)"
   ]
  },
  {
   "cell_type": "code",
   "execution_count": 343,
   "id": "d3ffdf7c-46a2-4439-ae85-9f9c2215b4c6",
   "metadata": {},
   "outputs": [],
   "source": [
    "# Retourner la clé et la valeur par ligne\n",
    "\n",
    "# for k, v in dico.items():\n",
    "#     print(k, v)"
   ]
  },
  {
   "cell_type": "markdown",
   "id": "b5474156",
   "metadata": {},
   "source": [
    "### while condition"
   ]
  },
  {
   "cell_type": "code",
   "execution_count": null,
   "id": "582efbc6",
   "metadata": {},
   "outputs": [],
   "source": [
    "# la boucle while (mélange de for et de if)  \n",
    " \n",
    "i = 0\n",
    "\n",
    "while i < 10:\n",
    "    print(i)\n",
    "    i += 1"
   ]
  },
  {
   "cell_type": "code",
   "execution_count": 344,
   "id": "0b67263e",
   "metadata": {},
   "outputs": [
    {
     "name": "stdout",
     "output_type": "stream",
     "text": [
      "2.23606797749979\n",
      "4.47213595499958\n",
      "19.4164878389476\n",
      "376.64306710730784\n"
     ]
    },
    {
     "data": {
      "text/plain": [
       "(-134+352j)"
      ]
     },
     "execution_count": 344,
     "metadata": {},
     "output_type": "execute_result"
    }
   ],
   "source": [
    "z = 1 + 1j\n",
    "\n",
    "while abs(z) < 100:\n",
    "    z = z**2 + 1\n",
    "    print(abs(z))\n",
    "\n",
    "z"
   ]
  },
  {
   "cell_type": "markdown",
   "id": "7fc5d9ef",
   "metadata": {},
   "source": [
    "<div style=\"width: 80%; padding: .5em 1.5em;\n",
    "            margin: .5em 2em .5em 2em;\n",
    "            border-radius: 12pt; border-color: black; \n",
    "            border-style: solid;\">\n",
    "    <b style=\"font-variant: small-caps; text-decoration: underline;\">Exercice:</b>\n",
    "        Calculer une approximation de π par la formule de Wallis:\n",
    "        <img src=Produit_Wallis.png>\n",
    "</div>"
   ]
  },
  {
   "cell_type": "markdown",
   "id": "539bee1b-d645-434d-ae2f-5c2e7cfb77c8",
   "metadata": {},
   "source": [
    "SOLUTION:"
   ]
  },
  {
   "cell_type": "code",
   "execution_count": 52,
   "id": "719e2f46",
   "metadata": {},
   "outputs": [
    {
     "name": "stdout",
     "output_type": "stream",
     "text": [
      "3.0677038066434976\n"
     ]
    }
   ],
   "source": [
    "# Nombre d'itérations:\n",
    "N_ITER=10\n",
    "\n",
    "# Initialisation:\n",
    "pi = 1\n",
    "\n",
    "for i in range(1, N_ITER + 1, 1):\n",
    "    pi *= ((2*i)/(2*i-1)*((2*i)/(2*i+1)))\n",
    "\n",
    "print(2*pi)"
   ]
  },
  {
   "cell_type": "markdown",
   "id": "29da3124",
   "metadata": {},
   "source": [
    "## Les variables"
   ]
  },
  {
   "cell_type": "code",
   "execution_count": 345,
   "id": "1ea9ac55",
   "metadata": {},
   "outputs": [],
   "source": [
    "# x = 1\n",
    "# y = 2.5\n",
    "\n",
    "# y"
   ]
  },
  {
   "cell_type": "code",
   "execution_count": 346,
   "id": "00768ab3",
   "metadata": {},
   "outputs": [],
   "source": [
    "# idem sur une seule ligne\n",
    "\n",
    "# x, y = 1, 2.5\n",
    "\n",
    "# x, y"
   ]
  },
  {
   "cell_type": "code",
   "execution_count": 347,
   "id": "34bc7b76",
   "metadata": {},
   "outputs": [],
   "source": [
    "# Arithmétique\n",
    "\n",
    "# x+y"
   ]
  },
  {
   "cell_type": "code",
   "execution_count": 348,
   "id": "fe78459c",
   "metadata": {},
   "outputs": [],
   "source": [
    "# Comparaison (type booléen):\n",
    "\n",
    "# print(x <= y)\n",
    "# print(x == y)\n",
    "# print(x != y)"
   ]
  },
  {
   "cell_type": "code",
   "execution_count": 349,
   "id": "c5ea9cde",
   "metadata": {},
   "outputs": [],
   "source": [
    "# Logique:\n",
    "\n",
    "# print(False & True) # AND\n",
    "# print(False | True) # OR\n",
    "# print(False ^ True) # XOR ou exclusif"
   ]
  },
  {
   "cell_type": "markdown",
   "id": "50d6d99c",
   "metadata": {},
   "source": [
    "## Les fonctions"
   ]
  },
  {
   "cell_type": "markdown",
   "id": "52020c4d",
   "metadata": {},
   "source": [
    "### Les fonctions prédéfinies"
   ]
  },
  {
   "cell_type": "markdown",
   "id": "08e18059",
   "metadata": {},
   "source": [
    "![doc](https://s1.qwant.com/thumbr/0x380/0/f/9c580e4683cdb12fc12765f9d35348de1bd925832de0b31229b0b8f0728434/python.functions.012021.png?u=https%3A%2F%2Fwwwdev.lwinternal.com%2Fwp-content%2Fuploads%2F2021%2F01%2Fpython.functions.012021.png&q=0&b=1&p=0&a=0)"
   ]
  },
  {
   "cell_type": "code",
   "execution_count": 350,
   "id": "176647d3",
   "metadata": {},
   "outputs": [],
   "source": [
    "# Valeur absolue:\n",
    "\n",
    "# x = -3\n",
    "\n",
    "# abs(x)"
   ]
  },
  {
   "cell_type": "code",
   "execution_count": 351,
   "id": "68a7cb0c",
   "metadata": {},
   "outputs": [],
   "source": [
    "# Arrondi\n",
    "\n",
    "# x = 3.14\n",
    "\n",
    "# round(x)"
   ]
  },
  {
   "cell_type": "code",
   "execution_count": 352,
   "id": "b521c3c7",
   "metadata": {},
   "outputs": [],
   "source": [
    "# Minimum de la liste\n",
    "\n",
    "# liste = [0, 23, 14, -19]\n",
    "\n",
    "# min(liste)"
   ]
  },
  {
   "cell_type": "code",
   "execution_count": 353,
   "id": "d9767a4c",
   "metadata": {},
   "outputs": [],
   "source": [
    "# Maximum de la liste\n",
    "\n",
    "# max(liste)"
   ]
  },
  {
   "cell_type": "code",
   "execution_count": 354,
   "id": "26e8c160",
   "metadata": {},
   "outputs": [],
   "source": [
    "# Longueur de la liste\n",
    "\n",
    "# len(liste)"
   ]
  },
  {
   "cell_type": "code",
   "execution_count": 355,
   "id": "f2ca7422",
   "metadata": {},
   "outputs": [],
   "source": [
    "# Sommer les éléments de la liste\n",
    " \n",
    "# sum(liste)"
   ]
  },
  {
   "cell_type": "code",
   "execution_count": 356,
   "id": "46935e15",
   "metadata": {},
   "outputs": [],
   "source": [
    "# True si tous les éléments sont True (tous différents de zéro)\n",
    "\n",
    "# all(liste)"
   ]
  },
  {
   "cell_type": "code",
   "execution_count": 357,
   "id": "0f3c77f9",
   "metadata": {},
   "outputs": [],
   "source": [
    "# True si au moins un des éléments est True (non égal à zéro = False)\n",
    " \n",
    "# any(liste)"
   ]
  },
  {
   "cell_type": "code",
   "execution_count": 362,
   "id": "4d25dece-d6cf-4ccd-a206-8f05fd2c30fe",
   "metadata": {},
   "outputs": [],
   "source": [
    "# y = '20'\n",
    "\n",
    "# int(y)"
   ]
  },
  {
   "cell_type": "code",
   "execution_count": 363,
   "id": "73185601-fbbd-4831-9ccb-d0912a6d60cb",
   "metadata": {},
   "outputs": [],
   "source": [
    "# z = 7.5\n",
    "\n",
    "# int(z)"
   ]
  },
  {
   "cell_type": "code",
   "execution_count": 364,
   "id": "b7b2af5b",
   "metadata": {},
   "outputs": [],
   "source": [
    "# Convert a list into tuple\n",
    "\n",
    "# liste_1 = [0, 61, 63, 243]\n",
    "\n",
    "# tuple_1 = tuple(liste_1)"
   ]
  },
  {
   "cell_type": "code",
   "execution_count": 365,
   "id": "5f58d3da",
   "metadata": {},
   "outputs": [],
   "source": [
    "# bin(15)"
   ]
  },
  {
   "cell_type": "code",
   "execution_count": 368,
   "id": "4c3d42b2",
   "metadata": {},
   "outputs": [],
   "source": [
    "# # input() : Attend que l'utilisateur saisisse qqch\n",
    "# x = input() # x va récupérer ce que l'utilisateur a saisi (str)\n",
    "# x"
   ]
  },
  {
   "cell_type": "markdown",
   "id": "df05e65b",
   "metadata": {},
   "source": [
    "### `lambda`"
   ]
  },
  {
   "cell_type": "markdown",
   "id": "b8498dbe-853a-4ff7-b988-4324fc372f6e",
   "metadata": {},
   "source": [
    "On les appelle les fonctions **anonymes**.  \n",
    "Cela signifie que l'on ne donnera pas de nom à notre fonctions et qu'on va la créer à la volée.  \n",
    "Ces fonctions sont très utiles pour la transformation de données en data science. "
   ]
  },
  {
   "cell_type": "markdown",
   "id": "6df839a9",
   "metadata": {},
   "source": [
    "$ f(x) = x^2$"
   ]
  },
  {
   "cell_type": "code",
   "execution_count": 370,
   "id": "45cc89f2",
   "metadata": {},
   "outputs": [],
   "source": [
    "# f = lambda x: x**2\n",
    "\n",
    "# print(f(2))\n",
    "# print(f(3))"
   ]
  },
  {
   "cell_type": "markdown",
   "id": "fe14c545-2851-4cea-9dd2-f379f8a1f067",
   "metadata": {},
   "source": [
    "$ f(x,y) = x^2 + y$"
   ]
  },
  {
   "cell_type": "code",
   "execution_count": 372,
   "id": "a8b5f2d4",
   "metadata": {},
   "outputs": [],
   "source": [
    "# f = lambda x,y: x**2 + y\n",
    "\n",
    "# print(f(2,3))"
   ]
  },
  {
   "cell_type": "code",
   "execution_count": 374,
   "id": "7523d706-8db3-4eb3-9e35-04064e6b2454",
   "metadata": {},
   "outputs": [],
   "source": [
    "# question = \"Hello world. How are you?\"\n",
    "\n",
    "# (lambda chaine : chaine.upper().split())(question)"
   ]
  },
  {
   "cell_type": "markdown",
   "id": "a935252b",
   "metadata": {},
   "source": [
    "### Define functions `def`"
   ]
  },
  {
   "cell_type": "code",
   "execution_count": 80,
   "id": "7bbb914f",
   "metadata": {},
   "outputs": [
    {
     "name": "stdout",
     "output_type": "stream",
     "text": [
      "5 positif\n"
     ]
    }
   ],
   "source": [
    "def f_signe(x):\n",
    "    if x > 0:\n",
    "        print(x, 'positif')\n",
    "    elif (x == 0):\n",
    "        print(x,'nul')\n",
    "    else:\n",
    "        print(x,'négatif')\n"
   ]
  },
  {
   "cell_type": "code",
   "execution_count": null,
   "id": "0d2b2437",
   "metadata": {},
   "outputs": [],
   "source": [
    " f_signe(5)"
   ]
  },
  {
   "cell_type": "code",
   "execution_count": null,
   "id": "e4c990a1",
   "metadata": {},
   "outputs": [],
   "source": [
    "def say_multiple_hello(n):\n",
    "    '''Print hello n times'''\n",
    "    for i in range(n):\n",
    "        print('hello')\n",
    "        \n",
    "print(say_multiple_hello(1))"
   ]
  },
  {
   "cell_type": "code",
   "execution_count": null,
   "id": "939c1b4b",
   "metadata": {},
   "outputs": [],
   "source": [
    "say_multiple_hello?"
   ]
  },
  {
   "cell_type": "code",
   "execution_count": null,
   "id": "55fe410f",
   "metadata": {},
   "outputs": [],
   "source": [
    "def add(a, b):\n",
    "    '''Return the sum of two numbers a and b (float)'''\n",
    "    return a + b, a - b"
   ]
  },
  {
   "cell_type": "markdown",
   "id": "b3b19c7d",
   "metadata": {},
   "source": [
    "Pour utiliser comme input des variables optionnelles:"
   ]
  },
  {
   "cell_type": "code",
   "execution_count": null,
   "id": "d85c3e5e",
   "metadata": {},
   "outputs": [],
   "source": [
    "def double_it(a, x=2, y=5):\n",
    "    print(y)\n",
    "    return x * 2"
   ]
  },
  {
   "cell_type": "code",
   "execution_count": null,
   "id": "f04fc10c",
   "metadata": {},
   "outputs": [],
   "source": [
    "double_it(a=1, y=10)"
   ]
  },
  {
   "cell_type": "code",
   "execution_count": null,
   "id": "9e55d155",
   "metadata": {},
   "outputs": [],
   "source": [
    "double_it(3)"
   ]
  },
  {
   "cell_type": "code",
   "execution_count": null,
   "id": "b9835f0c",
   "metadata": {},
   "outputs": [],
   "source": [
    "a = double_it\n",
    "print(type(a))\n",
    "a(6)"
   ]
  },
  {
   "cell_type": "markdown",
   "id": "269faf01",
   "metadata": {},
   "source": [
    "**Attention:** si une valeur d'input d'une fonction est \"immutable\", elle ne va pas être modifiée par la fonction. Par contre, si elle est \"mutable\", il se peut qu'elle soit modifiée, comme dans l'exemple ci-dessous:"
   ]
  },
  {
   "cell_type": "code",
   "execution_count": null,
   "id": "d1b70035",
   "metadata": {},
   "outputs": [],
   "source": [
    "def try_to_modify(x, y, z):\n",
    "    x = 2\n",
    "    y.append(42)\n",
    "    z = [99] # new reference\n",
    "    print(x)\n",
    "    print(y)\n",
    "    print(z)\n",
    "a = 77    # immutable variable\n",
    "b = [99]  # mutable variable\n",
    "c = [28]\n",
    "try_to_modify(a, b, c)\n",
    "print(a)\n",
    "print(b)\n",
    "print(c)"
   ]
  },
  {
   "cell_type": "markdown",
   "id": "fcd393f9",
   "metadata": {},
   "source": [
    "**Remarque:** Les fonctions sont des **objects**, qui peuvent:\n",
    "* être assignées à une variable  \n",
    "* un élément d'une liste  \n",
    "* être utilisée comme argument d'une autre fonction"
   ]
  },
  {
   "cell_type": "code",
   "execution_count": null,
   "id": "851b33f8",
   "metadata": {},
   "outputs": [],
   "source": [
    "def approximation_pi(n):\n",
    "    \"\"\"\n",
    "    Calcule une approximation de pi par la formule de Wallis.\n",
    "    \n",
    "    Args:\n",
    "    n: Le nombre de termes à utiliser.\n",
    "    \n",
    "    Returns:\n",
    "    Une approximation de pi.\n",
    "    \"\"\"\n",
    "    pi = 1\n",
    "    for i in range(1, n + 1, 1):\n",
    "        pi *= ((2*i)/(2*i-1)*((2*i)/(2*i+1)))\n",
    "    return 2*pi"
   ]
  },
  {
   "cell_type": "code",
   "execution_count": null,
   "id": "b51c3996",
   "metadata": {},
   "outputs": [],
   "source": [
    "approximation_pi(10000)"
   ]
  },
  {
   "cell_type": "code",
   "execution_count": null,
   "id": "766d2e86",
   "metadata": {},
   "outputs": [],
   "source": [
    " \n",
    "#Pour les fonctions on utilise plutôt la syntaxe\n",
    "def add_num(x,y,z=None):#None valeur potentielle\n",
    "    if (z==None):\n",
    "        return x+y\n",
    "    else:\n",
    "        return x+y+z\n",
    "add_num(1,2)\n",
    "add_num(1,2,3)\n",
    " \n",
    "def e_potentielle(masse, hauteur, limite, g=9.81):\n",
    "    E = masse * hauteur * g\n",
    "    return E < limite\n",
    "\n",
    "resultat = e_potentielle(masse=80, hauteur=5 , limite=3000 , g=9.81)\n",
    "resultat"
   ]
  },
  {
   "cell_type": "markdown",
   "id": "4da4010a",
   "metadata": {},
   "source": [
    "Remarque: par défaut, les fonctions renvoient `None`"
   ]
  },
  {
   "cell_type": "code",
   "execution_count": null,
   "id": "d6343f02",
   "metadata": {},
   "outputs": [],
   "source": [
    "def fibonacci(n):\n",
    "    # retourne la suite de Fibonacci jusqu'au terme n\n",
    "    F = np.zeros(n)\n",
    "    if n == 0:\n",
    "        return 0\n",
    "    elif n == 1:\n",
    "        return 1\n",
    "    else:\n",
    "        for i in range(n):\n",
    "            F[0]=0\n",
    "            F[1]=1\n",
    "            F[i] = F[i-1] + F[i-2]\n",
    "    return F\n",
    "\n",
    "fibonacci(9)"
   ]
  },
  {
   "cell_type": "markdown",
   "id": "52da0557",
   "metadata": {},
   "source": [
    "## format()"
   ]
  },
  {
   "cell_type": "code",
   "execution_count": null,
   "id": "6b2a8d88",
   "metadata": {},
   "outputs": [],
   "source": [
    "message = 'La température est de 25 degC à Paris'\n",
    "message"
   ]
  },
  {
   "cell_type": "code",
   "execution_count": null,
   "id": "2a0aa655",
   "metadata": {},
   "outputs": [],
   "source": [
    "TEMPERATURE = 25\n",
    "VILLE = 'Paris'"
   ]
  },
  {
   "cell_type": "code",
   "execution_count": null,
   "id": "43e19949",
   "metadata": {},
   "outputs": [],
   "source": [
    "message = 'La température est de {} degC à {}'.format(TEMPERATURE, VILLE)\n",
    "message"
   ]
  },
  {
   "cell_type": "code",
   "execution_count": null,
   "id": "071f5e99",
   "metadata": {},
   "outputs": [],
   "source": [
    "message = f'La température est de {TEMPERATURE} degC à {VILLE}'\n",
    "message"
   ]
  },
  {
   "cell_type": "markdown",
   "id": "893e54eb",
   "metadata": {},
   "source": [
    "## Les fichiers "
   ]
  },
  {
   "cell_type": "markdown",
   "id": "cb3b99e8",
   "metadata": {},
   "source": [
    "### open(), read(), write(), close() operations"
   ]
  },
  {
   "cell_type": "code",
   "execution_count": 186,
   "id": "e0827a5e",
   "metadata": {},
   "outputs": [],
   "source": [
    "# Help:\n",
    "\n",
    "#open?"
   ]
  },
  {
   "cell_type": "markdown",
   "id": "9644c7de",
   "metadata": {},
   "source": [
    "**open()** a file named fichier.txt to **w**(rite) in. Assign this action to f."
   ]
  },
  {
   "cell_type": "code",
   "execution_count": 187,
   "id": "f7765d0a",
   "metadata": {},
   "outputs": [],
   "source": [
    "f = open('fichier.txt', 'w')"
   ]
  },
  {
   "cell_type": "markdown",
   "id": "17009603",
   "metadata": {},
   "source": [
    "**write()** methode used to write in 'Hello' "
   ]
  },
  {
   "cell_type": "markdown",
   "id": "9dac5042",
   "metadata": {},
   "source": [
    "_NB:_ IOBase est la classe des méthodes open, write, close"
   ]
  },
  {
   "cell_type": "code",
   "execution_count": 188,
   "id": "818e5194",
   "metadata": {},
   "outputs": [
    {
     "data": {
      "text/plain": [
       "5"
      ]
     },
     "execution_count": 188,
     "metadata": {},
     "output_type": "execute_result"
    }
   ],
   "source": [
    "f.write('Danke')"
   ]
  },
  {
   "cell_type": "markdown",
   "id": "27f19d2f",
   "metadata": {},
   "source": [
    "**close()** methode to close the file f"
   ]
  },
  {
   "cell_type": "code",
   "execution_count": 189,
   "id": "c6c9e1e2",
   "metadata": {},
   "outputs": [],
   "source": [
    "f.close()"
   ]
  },
  {
   "cell_type": "markdown",
   "id": "ac0f4373",
   "metadata": {},
   "source": [
    "in the working directory we have a file fichier.txt containing the word 'Hello'"
   ]
  },
  {
   "cell_type": "code",
   "execution_count": 190,
   "id": "1dafbc1b",
   "metadata": {},
   "outputs": [
    {
     "name": "stdout",
     "output_type": "stream",
     "text": [
      "-rw-r--r--@ 1 davidtbo  staff  5 Apr 19 23:58 fichier.txt\n"
     ]
    }
   ],
   "source": [
    "!ls -la *fichier*"
   ]
  },
  {
   "cell_type": "markdown",
   "id": "69c117d1",
   "metadata": {},
   "source": [
    "**open()** a file named fichier.txt to **r**(ead) in  "
   ]
  },
  {
   "cell_type": "code",
   "execution_count": 96,
   "id": "dcac829a",
   "metadata": {},
   "outputs": [],
   "source": [
    "# Ouverture du fichier.txt en lecture r(ead)\n",
    "\n",
    "f = open('fichier.txt', 'r')"
   ]
  },
  {
   "cell_type": "code",
   "execution_count": 97,
   "id": "0ac49509",
   "metadata": {},
   "outputs": [],
   "source": [
    "# Affichage du contenu du fichier.txt\n",
    "\n",
    "# NB: do not write these lines in the cell f.read()"
   ]
  },
  {
   "cell_type": "code",
   "execution_count": 98,
   "id": "a4a1af64",
   "metadata": {},
   "outputs": [
    {
     "data": {
      "text/plain": [
       "'Danke'"
      ]
     },
     "execution_count": 98,
     "metadata": {},
     "output_type": "execute_result"
    }
   ],
   "source": [
    "f.read()"
   ]
  },
  {
   "cell_type": "markdown",
   "id": "18e4538d",
   "metadata": {},
   "source": [
    "**close()** methode to close the file f"
   ]
  },
  {
   "cell_type": "code",
   "execution_count": 99,
   "id": "b7223970",
   "metadata": {},
   "outputs": [],
   "source": [
    "f.close()"
   ]
  },
  {
   "cell_type": "markdown",
   "id": "70e7c608",
   "metadata": {},
   "source": [
    "The following syntaxe is most commonly used to avoid to call the close() method:"
   ]
  },
  {
   "cell_type": "code",
   "execution_count": null,
   "id": "c552f9de",
   "metadata": {},
   "outputs": [],
   "source": [
    "# We delete the previous file fichier.txt\n",
    "\n",
    "!rm fichier.txt"
   ]
  },
  {
   "cell_type": "markdown",
   "id": "d4c3cb71",
   "metadata": {},
   "source": [
    "write() / read() a file fichier.txt with the square of the 10 first integers."
   ]
  },
  {
   "cell_type": "code",
   "execution_count": 100,
   "id": "7d86132e",
   "metadata": {},
   "outputs": [],
   "source": [
    "with open('fichier.txt', 'w') as f:\n",
    "    for i in range(10):\n",
    "        f.write(f\"{i}^2 = {i*i} \\n\")"
   ]
  },
  {
   "cell_type": "markdown",
   "id": "e8df9d62",
   "metadata": {},
   "source": [
    "_NB:_ **backslash n** (option+Maj+/) pour aller à la ligne"
   ]
  },
  {
   "cell_type": "code",
   "execution_count": 101,
   "id": "54534630",
   "metadata": {},
   "outputs": [
    {
     "name": "stdout",
     "output_type": "stream",
     "text": [
      "0^2 = 0 \n",
      "1^2 = 1 \n",
      "2^2 = 4 \n",
      "3^2 = 9 \n",
      "4^2 = 16 \n",
      "5^2 = 25 \n",
      "6^2 = 36 \n",
      "7^2 = 49 \n",
      "8^2 = 64 \n",
      "9^2 = 81 \n",
      "\n"
     ]
    }
   ],
   "source": [
    "with open('fichier.txt', 'r') as f:\n",
    "    print(f.read())"
   ]
  },
  {
   "cell_type": "markdown",
   "id": "e4023931",
   "metadata": {},
   "source": [
    "<u>Exercice:</u>\n",
    "Use the open() method to read this file and write in a liste the rows."
   ]
  },
  {
   "cell_type": "code",
   "execution_count": 105,
   "id": "8c766947",
   "metadata": {},
   "outputs": [
    {
     "data": {
      "text/plain": [
       "['0^2 = 0 ',\n",
       " '1^2 = 1 ',\n",
       " '2^2 = 4 ',\n",
       " '3^2 = 9 ',\n",
       " '4^2 = 16 ',\n",
       " '5^2 = 25 ',\n",
       " '6^2 = 36 ',\n",
       " '7^2 = 49 ',\n",
       " '8^2 = 64 ',\n",
       " '9^2 = 81 ']"
      ]
     },
     "execution_count": 105,
     "metadata": {},
     "output_type": "execute_result"
    }
   ],
   "source": [
    "# Exercice\n",
    "# utiliser la fonction open() pour lire ce fichier.txt et écrire dans une liste les lignes du fichier.txt\n",
    "\n",
    "with open('fichier.txt', 'r') as f:\n",
    "    liste = f.read().splitlines() # read(): lit le fichier. splitlines(): coupe les lignes lues\n",
    "liste"
   ]
  },
  {
   "cell_type": "markdown",
   "id": "c06f84be-163c-43ce-9b57-17b1b9dd10b5",
   "metadata": {},
   "source": [
    "## Les environnements (avancé)  \n",
    "\n",
    "### Présentation\n",
    "\n",
    "Anaconda permet de créer simplement des environnements de travail exportables sour forme de fichier `.yml` \n",
    "\n",
    "Un environnement est une paramétrisation de l'écosystème de travail qui pourra êetre exporté vers d'autres machines afin de permettre de reproduire les traitements effectués sans avoir à installer un environnement trop complexe.  \n",
    "\n",
    "En python, deux systèmes de gestion d'environnement existent: virtual-env et les environnements d'Anaconda. \n",
    "Un environnemnt dans Anaconda ets résumé dans un fichier .yml qui rassemble touts les informations nécessaires au fonctionnement de vos programmes:  \n",
    "* la version de Python\n",
    "* les packages et leurs dépendances\n",
    "\n",
    "L'environnement par défaut sur Anaconda est l'environnement racine `(base)` dans lequel tous les packages disponibles sur votre machine sont accessibles depuis votre code.  \n",
    "Petit à petit nous aurons tendance à ajouter de nouveaux packages dans cet environnement ce qui va rendre sa reproductibilité difficile à mettre en oeuvre.  Il est donc conseillé de mettre en place pour chaque projet un environnement dans lequel vous ne mettrez que les packages dont vous aurez besoin.  \n",
    "\n",
    "1. commencer par vérifier les environnements installés sur la machine:\n",
    "`conda info --envs`\n",
    "2. créer un nouvel environnement mon_env (il est vide):\n",
    "`conda create --name mon_env`\n",
    "4. activer ce nouvel environnement  \n",
    "    - sous linux, mac:  \n",
    "    (base) username ~ % `source activate mon_env `  \n",
    "    (mon_env) username ~ %   \n",
    "    - sous Windows:  \n",
    "    (base) C:\\WINDOWS\\system32> `activate mon_env`  \n",
    "    (mon_env) C:\\WINDOWS\\system32>  \n",
    "5. dans ce nouvel environnement, ajouter les packages dont vous avez besoin\n",
    "6. pour revenir à l'environnement de base:\n",
    "    `conda activate base`\n",
    "7. pour supprimer l'environnement mon_env:\n",
    "    `conda remove -n mon_env --all`\n",
    "  \n",
    "### Cloner un environnement:\n",
    "Il peut être intéressant de **cloner** un environnement existant. Cloner signifie que le nouvel environnement aura la même structure de packages, la même version de Python et les mêmes variables d'environnement que l'environnement source.  \n",
    "Pour cloner l'environnement **mon_env** dans un environnement **mon_clone**:  \n",
    "`conda create --name mon_clone --clone mon_env`"
   ]
  },
  {
   "cell_type": "markdown",
   "id": "7fd6f2af-8ce4-456d-ba7d-854c6d389ac0",
   "metadata": {},
   "source": [
    "Le clonage d'environnement est rapide et facile à réaliser. Il garantit que le nouvel environnement est une copie exacte de l'environnement source. Il est utile pour la collaboration car tous les membres de l'équipe peuvent travailler avec un environnement identique.  \n",
    "Mais il peut être utile de personnaliser le nouvel environnement. La **réplication**, plus complexe à réaliser que le clonage, va nous permettre cette personnalisation.\n",
    "\n",
    "### Répliquer un environnement:\n",
    "\n",
    "- **Méthode 1:** réplication uniquement des versions des packages\n",
    "  Pour répliquer les packages sans spécifier de versions ou de système d'exploitation précis.\n",
    "  Nous utiliserons alors un fichier `YAML (.yml)`\n",
    "  1. création du fichier .yml en exportant l'environnement existant vers ce fichier:  `conda env export > environnement.yml`\n",
    "  2. (facultatif) modification du fichier .yml. Vous pouvez modifier le fichier YAML pour personnaliser le nouvel environnement. Par exemple, ajouter ou supprimer des packages, modifier les versions des packages ou les variables d'environnement.  \n",
    "  2. créé et chargé le nouvel environnement à partir du fichier YAML: `conda create -f environnement.yml`\n",
    "     Cela crééra un nouvel environnement nommé d'après le nom du fichier .yml (ici le nom sera \"environnement\")  \n",
    "     \n",
    "- **Méthode 2:** réplication à l'identique (version des packages + versions de l'OS)  \n",
    "  Pour répliquer à l'identique votre environnement (version des packages sur le même système d'exploitation) il faut alors utiliser un fichier de spécification que nous récupérerons en utilisant: `conda create -f environnement.yml`  \n",
    "  Vous pourrez exporte cet environnement sur une nouvelle machine, mais elle devra avoir le même système d'exploitation: `conda create --name MyEnvironnement --file spec-file.txt`  \n",
    "  Vous pourrez alors charger les scripts développés sur votre environnement sur l'autre machine sans risque de problèmes de compatibilité de versions.  \n",
    "\n",
    "NB: la réplication peut également être utilisée pour restaurer ou sauvegarder des environnements."
   ]
  },
  {
   "cell_type": "code",
   "execution_count": null,
   "id": "2c96e66a-1930-4432-8e5d-7adf771a5543",
   "metadata": {},
   "outputs": [],
   "source": []
  },
  {
   "cell_type": "markdown",
   "id": "8c6a93d1-cfb3-4ede-8b5b-5b9db2953698",
   "metadata": {},
   "source": [
    "## Les modules"
   ]
  },
  {
   "cell_type": "markdown",
   "id": "d2b98784",
   "metadata": {},
   "source": [
    "### Modules vs librairies\n",
    "\n",
    "**Module**  \n",
    "Le terme **module** est plus précis que **librairie**, car il désigne <u>un fichier Python</u> qui contient des fonctions, des classes des sous-modules et des variables. Cela peut être utile dans un contexte général, car cela permet de clarifier le type d'objet dont on parle.\n",
    "\n",
    "**Librairie**  \n",
    "Le terme \"librairie\" est plus général, car il désigne <u>un ensemble de fonctions</u>, de classes et de variables qui peuvent être utilisées dans un programme. Cela peut être utile dans un contexte technique, car cela permet d'économiser de l'espace et de la clarté.\n",
    "\n",
    "En pratique  \n",
    "Les deux termes seront ici souvent utilisés de manière interchangeable. Par exemple, on pourra dire \"le module NumPy\" ou \"la librairie NumPy\".\n",
    "\n",
    "### Les classiques\n",
    "\n",
    "Pour obtenir un environnement de programmation scientifique, Python peut être combiné avec les modules de base suivants:  \n",
    "Pour utiliser Python pour le calcul scientifique, il est nécessaire d'installer plusieurs librairies très utiles:\n",
    "\n",
    "* [Numpy](http://www.numpy.org/): permet la définition et la manipulation de `tableaux` N-dimensionnel et opérations d'`algèbre linéaire` de base.  \n",
    "* [Scipy](http://www.scipy.org/): librairie de `calcul scientifique` pour le traitement de données (tests statistiques, optimisation, regression, interpolation, ...).\n",
    "* [Pandas](https://pandas.pydata.org) : gestion de données tabulaires de type `DataFrame`.\n",
    "* [Matplotlib](http://matplotlib.org/): contient des outils de `Data visualization`.\n",
    "* [Scikit-learn](https://scikit-learn.org/stable/index.html) : pour disposer des outils de `Machine Learning` (_sklearn_).\n",
    "* Django: framwork de developpement web.\n",
    "* Tensorflow/Pytorch: librairie dédiée aux Réseaux de Neurones.\n",
    "* PyTest: librairie liée au test unitaire en python.\n",
    "\n",
    "De nombreux autres modules sont disponibles en fonction des besoins, tels que [keras](https://keras.io/) qui est une API de `réseau de neurones` de haut niveau (reconnaissance d'images...), [pytest](https://docs.pytest.org/en/latest/) pour les tests, ... \n",
    "\n",
    "Pour vérifier si un package est installé, il suffit d'essayer de l'importer en `Python`.\n",
    "Tous les packages suivants sont bien installés si l'éxecution (CTL+ENTREE) de la cellule suivante ne provoque aucune erreur."
   ]
  },
  {
   "cell_type": "code",
   "execution_count": 4,
   "id": "a10a558f",
   "metadata": {},
   "outputs": [],
   "source": [
    "# Exemple pour importer le module numpy\n",
    "\n",
    "import numpy"
   ]
  },
  {
   "cell_type": "markdown",
   "id": "61e58959-b482-4eef-a091-10eacfe901a3",
   "metadata": {},
   "source": [
    "Il est possible d'installer un package avec `conda` en lançant la commande `conda install -y nom_package`. Cette commande peut être lancée dans le `Anaconda Prompt` ou dans une cellule avec `!` pour signifier que la ligne est une ligne de commande."
   ]
  },
  {
   "cell_type": "code",
   "execution_count": 5,
   "id": "8fd0a7ef",
   "metadata": {},
   "outputs": [],
   "source": [
    "# Par exemple pour installer le package numpy depuis le répertoire des packages d'Anaconda:\n",
    "# NB: -y to answer yes to proceed (y/n) during installation process:\n",
    "\n",
    "# !conda install -y numpy"
   ]
  },
  {
   "cell_type": "markdown",
   "id": "a98700f4-3c4a-4a9c-a755-4179afeae55d",
   "metadata": {},
   "source": [
    "<div style=\"width: 80%; padding: .5em 1.5em;\n",
    "            margin: .5em 2em .5em 2em;\n",
    "            border-radius: 12pt; border-color: black; \n",
    "            border-style: solid;\">\n",
    "<b style=\"font-variant: small-caps; text-decoration: underline;\">En savoir plus:</b><br>\n",
    "    Python dans sa version classique est hébergé par le site de la Python Software Fundation (https://Python.org) \n",
    "    <a href=https://python.org></a> PSF:  \n",
    "        Ce site est couplé au répertoire PyPi [https://pypi.org] qui rassemble tous les packages (ensemble de classes / modeules) développés en Python.  \n",
    "    Pour installer sur votre machine un package en utilisant le répertoire PyPi, on utilisera la commande `pip`.  \n",
    "    Par exemple, pour installer Numpy, nous utiliserons:  \n",
    "    pip install numpy  \n",
    "\n",
    "</br>\n",
    "</div>"
   ]
  },
  {
   "cell_type": "markdown",
   "id": "4b2c36d5",
   "metadata": {},
   "source": [
    "Les [packages](http://conda.pydata.org/docs/using/pkgs.html) et les [environnements](http://conda.pydata.org/docs/using/envs.html) peuvent être gérés avec l'interface graphique de `Anaconda Navigator` ou avec la commande `conda` (`conda --help` et `conda env --help`).  Ci-après un récapitulatif des principales commandes:\n",
    "\n"
   ]
  },
  {
   "cell_type": "markdown",
   "id": "7c7ea7af-9a50-4867-abdf-155c65f8e412",
   "metadata": {},
   "source": [
    "|Action|Commande|\n",
    "|----------|---------------|\n",
    "|Vérifier l'installation de conda|conda info|\n",
    "|Mettre à jour conda|conda update conda|\n",
    "|Obtenir la liste des packages disponibles dans votre environnement | `conda list` |\n",
    "|Installer un package depuis le répertoire des packages d'Anaconda | conda install nom_package|\n",
    "|Mettre à jour un package | conda update nom_package|\n",
    "|Rechercher un package | conda search nom_package|\n",
    "|Installer un package issu directement du PyPi| pip install nom_package|\n",
    "|Récupérer des packages moins distribués et stockés sur conda-forge| conda install --channel|\n",
    "||conda-forge nom_package|"
   ]
  },
  {
   "cell_type": "markdown",
   "id": "f33d75b9",
   "metadata": {},
   "source": [
    "L'import des modules se fait en tête d'un script Python. Il est recommandé d'importer en premier les modules qui sont le plus bas niveau. \n"
   ]
  },
  {
   "cell_type": "markdown",
   "id": "de5b684d",
   "metadata": {},
   "source": [
    "### `os`\n",
    "\n",
    "\n",
    "Import du module **O**perating **S**ystem"
   ]
  },
  {
   "cell_type": "code",
   "execution_count": 192,
   "id": "e9ad332c",
   "metadata": {},
   "outputs": [],
   "source": [
    "#os?"
   ]
  },
  {
   "cell_type": "code",
   "execution_count": null,
   "id": "e0cbb734",
   "metadata": {},
   "outputs": [],
   "source": [
    "import os"
   ]
  },
  {
   "cell_type": "code",
   "execution_count": null,
   "id": "4426ba2b",
   "metadata": {},
   "outputs": [],
   "source": [
    "os.listdir('.')"
   ]
  },
  {
   "cell_type": "code",
   "execution_count": null,
   "id": "5062e4a6",
   "metadata": {},
   "outputs": [],
   "source": [
    "from os import listdir\n",
    "listdir('.')"
   ]
  },
  {
   "cell_type": "markdown",
   "id": "7e1f1108",
   "metadata": {},
   "source": [
    "### `numpy`\n",
    "\n",
    "* `numpy` est un module utilisé dans presque tous les projets de calcul numérique sous Python:\n",
    "    * Il fournit des structures de données performantes pour la manipulation de vecteurs, matrices et tenseurs plus généraux. C'est l'objet de base pour manipuler de données tabulaires.\n",
    "    * numpy est écrit en C et en Fortran d'où ses performances élevées lorsque les calculs sont vectorisés (formulés comme des opérations sur des vecteurs/matrices).\n",
    "\n",
    "Dans la terminologie `numpy`, les vecteurs, les matrices et les autres tenseurs sont appelés `arrays`.\n",
    "Pour créer un `array`, il existe plusieurs possibilités:\n",
    "\n",
    " * à partir de listes ou tuples.\n",
    " * en utilisant des fonctions dédiées, telles que `arange`, `linspace`, etc.\n",
    " * par chargement à partir de fichiers."
   ]
  },
  {
   "cell_type": "code",
   "execution_count": 107,
   "id": "8f56ccd7",
   "metadata": {},
   "outputs": [],
   "source": [
    "import numpy as np"
   ]
  },
  {
   "cell_type": "markdown",
   "id": "a54f9fd0",
   "metadata": {},
   "source": [
    "#### Create np.arrays\n",
    "\n",
    "\n",
    "##### From lists\n",
    "\n",
    "On peut créer un `array` (tableau) en une dimension à partir d'une liste python classique, au moyen de la fonction `numpy.array()` du module numpy"
   ]
  },
  {
   "cell_type": "code",
   "execution_count": 193,
   "id": "48f8cb3e",
   "metadata": {},
   "outputs": [],
   "source": [
    "# Aide\n",
    "\n",
    "#np.array?"
   ]
  },
  {
   "cell_type": "code",
   "execution_count": 204,
   "id": "1b9c66e6",
   "metadata": {},
   "outputs": [
    {
     "data": {
      "text/plain": [
       "array([ 1,  3,  5,  7, 11])"
      ]
     },
     "execution_count": 204,
     "metadata": {},
     "output_type": "execute_result"
    }
   ],
   "source": [
    "# Créer un tableau à partir d'une liste:\n",
    "\n",
    "np.array([1, 3, 5, 7, 11])"
   ]
  },
  {
   "cell_type": "code",
   "execution_count": 205,
   "id": "28783b11",
   "metadata": {},
   "outputs": [],
   "source": [
    "# Créer une matrice à partir d'une liste de listes\n",
    "\n",
    "A = np.array([[1,2],[3,4],[5,6]])"
   ]
  },
  {
   "cell_type": "code",
   "execution_count": 206,
   "id": "f3afeea1",
   "metadata": {},
   "outputs": [
    {
     "name": "stdout",
     "output_type": "stream",
     "text": [
      "[[1 2]\n",
      " [3 4]\n",
      " [5 6]]\n"
     ]
    }
   ],
   "source": [
    "print(A)"
   ]
  },
  {
   "cell_type": "code",
   "execution_count": 207,
   "id": "643e1a2f",
   "metadata": {},
   "outputs": [
    {
     "name": "stdout",
     "output_type": "stream",
     "text": [
      "<class 'numpy.ndarray'>\n"
     ]
    }
   ],
   "source": [
    "# Quel est le type de A ?\n",
    "\n",
    "print(type(A))"
   ]
  },
  {
   "cell_type": "code",
   "execution_count": 208,
   "id": "d688cc6c",
   "metadata": {},
   "outputs": [
    {
     "data": {
      "text/plain": [
       "(3, 2)"
      ]
     },
     "execution_count": 208,
     "metadata": {},
     "output_type": "execute_result"
    }
   ],
   "source": [
    "# Quelle est la shape (n lignes, p colonnes) de la matrice\n",
    "\n",
    "A.shape"
   ]
  },
  {
   "cell_type": "code",
   "execution_count": 134,
   "id": "5eb59ccc",
   "metadata": {},
   "outputs": [
    {
     "data": {
      "text/plain": [
       "3"
      ]
     },
     "execution_count": 134,
     "metadata": {},
     "output_type": "execute_result"
    }
   ],
   "source": [
    "# Comment récupérer uniquement le nombre de lignes ?\n",
    "\n"
   ]
  },
  {
   "cell_type": "code",
   "execution_count": 137,
   "id": "106968c6",
   "metadata": {},
   "outputs": [],
   "source": [
    "# Affichage de la matrice A:\n",
    "\n",
    "print(A)"
   ]
  },
  {
   "cell_type": "code",
   "execution_count": 127,
   "id": "b484a27d",
   "metadata": {},
   "outputs": [],
   "source": [
    "# L'opérateur pour transposer une matrice est .T"
   ]
  },
  {
   "cell_type": "code",
   "execution_count": 135,
   "id": "fa548a05",
   "metadata": {},
   "outputs": [],
   "source": [
    "# Matrice transposée de A est A.T\n",
    "\n",
    "A.T"
   ]
  },
  {
   "cell_type": "code",
   "execution_count": 136,
   "id": "976c2621",
   "metadata": {},
   "outputs": [],
   "source": [
    "# Dimenstion de la transposée de A\n",
    "\n",
    "A.T.shape"
   ]
  },
  {
   "cell_type": "markdown",
   "id": "4bc6507a",
   "metadata": {},
   "source": [
    "##### np.ones()"
   ]
  },
  {
   "cell_type": "code",
   "execution_count": 194,
   "id": "bab598ee",
   "metadata": {},
   "outputs": [],
   "source": [
    "# np.ones() est une fonction de numpy permetttant de créer des vecteurs de une:\n",
    "\n",
    "#np.ones?"
   ]
  },
  {
   "cell_type": "code",
   "execution_count": 141,
   "id": "e449b26a",
   "metadata": {},
   "outputs": [],
   "source": [
    "# Exercice: avec la fontion np.ones() créer un vecteur de 1 de longeur dix:\n",
    "\n"
   ]
  },
  {
   "cell_type": "code",
   "execution_count": 142,
   "id": "fe47c166",
   "metadata": {},
   "outputs": [],
   "source": [
    "# Exercice: avec la fontion np.ones() créer une matrice (5, 5) de 1:\n"
   ]
  },
  {
   "cell_type": "code",
   "execution_count": null,
   "id": "0ff88e29",
   "metadata": {},
   "outputs": [],
   "source": [
    "# L'opérateur de produit matriciel est .dot()"
   ]
  },
  {
   "cell_type": "code",
   "execution_count": 143,
   "id": "00da4e44",
   "metadata": {},
   "outputs": [
    {
     "data": {
      "text/plain": [
       "array([[1, 2],\n",
       "       [3, 4],\n",
       "       [5, 6]])"
      ]
     },
     "execution_count": 143,
     "metadata": {},
     "output_type": "execute_result"
    }
   ],
   "source": [
    "A"
   ]
  },
  {
   "cell_type": "code",
   "execution_count": 146,
   "id": "dcb1f715",
   "metadata": {},
   "outputs": [
    {
     "data": {
      "text/plain": [
       "array([[1, 3, 5],\n",
       "       [2, 4, 6]])"
      ]
     },
     "execution_count": 146,
     "metadata": {},
     "output_type": "execute_result"
    }
   ],
   "source": [
    "B = A.T\n",
    "\n",
    "B"
   ]
  },
  {
   "cell_type": "code",
   "execution_count": 147,
   "id": "575a74c3",
   "metadata": {},
   "outputs": [
    {
     "data": {
      "text/plain": [
       "array([[ 5, 11, 17],\n",
       "       [11, 25, 39],\n",
       "       [17, 39, 61]])"
      ]
     },
     "execution_count": 147,
     "metadata": {},
     "output_type": "execute_result"
    }
   ],
   "source": [
    "A.dot(B)"
   ]
  },
  {
   "cell_type": "markdown",
   "id": "ae673085",
   "metadata": {},
   "source": [
    "##### np.random.randint()"
   ]
  },
  {
   "cell_type": "markdown",
   "id": "128dfb04",
   "metadata": {},
   "source": [
    "La fonction **np.random.randint()** du sous-module np.random de Python renvoie un nombre entier aléatoire compris entre deux bornes\n",
    "\n",
    "La fonction prend deux arguments :\n",
    "\n",
    "* low : la borne inférieure de la plage de nombres aléatoires.  \n",
    "* high : la borne supérieure de la plage de nombres aléatoires.\n",
    "\n",
    "Exemple: le code suivant renvoie un nombre entier aléatoire compris entre 1 et 10 :"
   ]
  },
  {
   "cell_type": "code",
   "execution_count": 183,
   "id": "39359ad3",
   "metadata": {},
   "outputs": [],
   "source": [
    "# Pour obtenir de l'aide:\n",
    "\n",
    "#np.random.randint?"
   ]
  },
  {
   "cell_type": "code",
   "execution_count": null,
   "id": "620c8462",
   "metadata": {},
   "outputs": [],
   "source": [
    "# Générer un nombre entier aléatoire:\n",
    "\n",
    "np.random.randint()"
   ]
  },
  {
   "cell_type": "code",
   "execution_count": 178,
   "id": "71fbb03c",
   "metadata": {},
   "outputs": [
    {
     "data": {
      "text/plain": [
       "6"
      ]
     },
     "execution_count": 178,
     "metadata": {},
     "output_type": "execute_result"
    }
   ],
   "source": [
    "# Générer un nombre entier aléatoire compris entre 1 et 10\n",
    "\n",
    "np.random.randint(1, 10)"
   ]
  },
  {
   "cell_type": "markdown",
   "id": "e4128f48",
   "metadata": {},
   "source": [
    "Il est possible de rajouter un troisième argument permettant de spécifier la taille du tableau à générer. \n",
    "* size : la forme du tableau à générer.  \n",
    "\n",
    "Exemple: créer un tableau d'entiers tirés aléatoirement entre 0 et 9 sur 5 lignes 2 colonnes"
   ]
  },
  {
   "cell_type": "code",
   "execution_count": 164,
   "id": "e2cc648b",
   "metadata": {},
   "outputs": [],
   "source": [
    "np.random.randint(0, 10, size=(5, 2))"
   ]
  },
  {
   "cell_type": "code",
   "execution_count": null,
   "id": "c1269058",
   "metadata": {},
   "outputs": [],
   "source": [
    "# Coder avec des constantes:\n",
    "\n",
    "MAX = 100\n",
    "N = 7\n",
    "P = 3"
   ]
  },
  {
   "cell_type": "code",
   "execution_count": null,
   "id": "c8dd994c",
   "metadata": {},
   "outputs": [],
   "source": [
    "np.random.randint(0, MAX+1, size=(N, P))"
   ]
  },
  {
   "cell_type": "markdown",
   "id": "ecfc19cc",
   "metadata": {},
   "source": [
    "##### np.random.uniform()"
   ]
  },
  {
   "cell_type": "markdown",
   "id": "8633b804",
   "metadata": {},
   "source": [
    "Même principe que pour la fonction np.random.randint() mais avec cette fois ci des réels compris entre _low_ et _high_. Si _low_ et _high_ ne sont pas spécifiés leur valeur par défaut est resp. 0 et 1 (loi uniforme)"
   ]
  },
  {
   "cell_type": "code",
   "execution_count": 180,
   "id": "759d3a75",
   "metadata": {},
   "outputs": [],
   "source": [
    "# Pour obtenir de l'aide:\n",
    "\n",
    "#np.random.uniform?"
   ]
  },
  {
   "cell_type": "code",
   "execution_count": 177,
   "id": "6b83c149",
   "metadata": {},
   "outputs": [],
   "source": [
    "np.random.uniform()"
   ]
  },
  {
   "cell_type": "code",
   "execution_count": null,
   "id": "db9f9bfb",
   "metadata": {},
   "outputs": [],
   "source": [
    "np.random.uniform(size=(5,1))"
   ]
  },
  {
   "cell_type": "code",
   "execution_count": 168,
   "id": "c8085ff8",
   "metadata": {},
   "outputs": [
    {
     "data": {
      "text/plain": [
       "array([10.11478559, 10.37143922, 10.54478647, 10.23406548, 10.34515366])"
      ]
     },
     "execution_count": 168,
     "metadata": {},
     "output_type": "execute_result"
    }
   ],
   "source": [
    "# Exercice: écrivez un vecteur de 5 réels compris entre 10 et 11\n",
    "\n",
    "np.random.uniform(low=10, high=11,size=(5,1))"
   ]
  },
  {
   "cell_type": "markdown",
   "id": "3eb67aca",
   "metadata": {},
   "source": [
    "##### np.random.randn()"
   ]
  },
  {
   "cell_type": "code",
   "execution_count": null,
   "id": "7e25a293",
   "metadata": {},
   "outputs": [],
   "source": [
    "# Return a sample (or samples) from the \"standard normal\" distribution."
   ]
  },
  {
   "cell_type": "code",
   "execution_count": 185,
   "id": "adf0ece1",
   "metadata": {},
   "outputs": [],
   "source": [
    "# Aide\n",
    "\n",
    "#np.random.randn?"
   ]
  },
  {
   "cell_type": "code",
   "execution_count": null,
   "id": "0b5e143f",
   "metadata": {},
   "outputs": [],
   "source": [
    "np.random.randn(4,3)"
   ]
  },
  {
   "cell_type": "markdown",
   "id": "91479730",
   "metadata": {},
   "source": [
    "Pour la DataScience il est souvent utile de fixer le générateur aléatoire (la graine=seed) pour pouvoir reproduire les résultats."
   ]
  },
  {
   "cell_type": "code",
   "execution_count": 201,
   "id": "e1b05819",
   "metadata": {},
   "outputs": [
    {
     "name": "stdout",
     "output_type": "stream",
     "text": [
      "278\n",
      "755\n",
      "805\n",
      "600\n",
      "71\n"
     ]
    }
   ],
   "source": [
    "# Generated 5 random numbers between 1 to 1000.\n",
    "\n",
    "for i in range(5):\n",
    "    print(np.random.randint(1, 1000)) "
   ]
  },
  {
   "cell_type": "markdown",
   "id": "6aa5cb3b",
   "metadata": {},
   "source": [
    "##### np.random.seed()"
   ]
  },
  {
   "cell_type": "code",
   "execution_count": 203,
   "id": "64933d8b",
   "metadata": {},
   "outputs": [
    {
     "name": "stdout",
     "output_type": "stream",
     "text": [
      "685\n",
      "560\n",
      "630\n",
      "193\n",
      "836\n"
     ]
    }
   ],
   "source": [
    "# Generated 5 random numbers between 1 to 1000 when the seed is fixed\n",
    "# The random numbers generated in this cell will always be the same\n",
    "\n",
    "np.random.seed(0) # Any number can be used in place of '0'.\n",
    "\n",
    "for i in range(5):\n",
    "    print(np.random.randint(1, 1000)) "
   ]
  },
  {
   "cell_type": "markdown",
   "id": "5ccb79d2",
   "metadata": {},
   "source": [
    "### create modules"
   ]
  },
  {
   "cell_type": "code",
   "execution_count": null,
   "id": "cc934b00",
   "metadata": {},
   "outputs": [
    {
     "name": "stdout",
     "output_type": "stream",
     "text": [
      "Writing demo.py\n"
     ]
    }
   ],
   "source": [
    "%%writefile demo.py\n",
    "\"A demo module.\"\n",
    "\n",
    "def print_b():\n",
    "    \"Prints b.\"\n",
    "    print('b')\n",
    "\n",
    "def print_a():\n",
    "    \"Prints a.\"\n",
    "    print('a')\n",
    "\n",
    "c = 2\n",
    "d = 2"
   ]
  },
  {
   "cell_type": "code",
   "execution_count": null,
   "id": "208f2afa",
   "metadata": {},
   "outputs": [],
   "source": [
    "# On peut ensuite utiliser ce module:\n",
    "\n",
    "import demo"
   ]
  },
  {
   "cell_type": "markdown",
   "id": "e1157b6a",
   "metadata": {},
   "source": [
    "On a alors accès aux objets du module (variables, fonctions et classes):"
   ]
  },
  {
   "cell_type": "code",
   "execution_count": null,
   "id": "8be2c904",
   "metadata": {},
   "outputs": [
    {
     "data": {
      "text/plain": [
       "<module 'demo' from '/Users/davidtbo/Documents/Data_Science/13_Python/session1-python/demo.py'>"
      ]
     },
     "metadata": {},
     "output_type": "display_data"
    }
   ],
   "source": [
    "demo"
   ]
  },
  {
   "cell_type": "code",
   "execution_count": null,
   "id": "6e454702",
   "metadata": {},
   "outputs": [],
   "source": [
    "demo?"
   ]
  },
  {
   "cell_type": "code",
   "execution_count": null,
   "id": "5715a6b7",
   "metadata": {},
   "outputs": [
    {
     "data": {
      "text/plain": [
       "<function demo.print_a()>"
      ]
     },
     "metadata": {},
     "output_type": "display_data"
    }
   ],
   "source": [
    "demo.print_a"
   ]
  },
  {
   "cell_type": "code",
   "execution_count": null,
   "id": "65e58aac",
   "metadata": {},
   "outputs": [],
   "source": [
    "demo.print_a?"
   ]
  },
  {
   "cell_type": "code",
   "execution_count": null,
   "id": "c4e19e37",
   "metadata": {},
   "outputs": [
    {
     "name": "stdout",
     "output_type": "stream",
     "text": [
      "a\n"
     ]
    }
   ],
   "source": [
    "demo.print_a()"
   ]
  },
  {
   "cell_type": "markdown",
   "id": "001e1279",
   "metadata": {},
   "source": [
    "Afin d'exécuter du code directement quand un module est chargé, on peut utiliser **`__main__`**:"
   ]
  },
  {
   "cell_type": "code",
   "execution_count": null,
   "id": "ace02eb0",
   "metadata": {},
   "outputs": [
    {
     "name": "stdout",
     "output_type": "stream",
     "text": [
      "Writing demo2.py\n"
     ]
    }
   ],
   "source": [
    "%%writefile demo2.py\n",
    "def print_b():\n",
    "    \"Prints b.\"\n",
    "    print('b')\n",
    "\n",
    "def print_a():\n",
    "    \"Prints a.\"\n",
    "    print('a')\n",
    "\n",
    "# print_b() runs on import\n",
    "print_b()\n",
    "\n",
    "if __name__ == '__main__':\n",
    "    # print_a() is only executed when the module is run directly.\n",
    "    print_a()"
   ]
  },
  {
   "cell_type": "code",
   "execution_count": null,
   "id": "155660b6",
   "metadata": {},
   "outputs": [
    {
     "name": "stdout",
     "output_type": "stream",
     "text": [
      "b\n"
     ]
    }
   ],
   "source": [
    "import demo2"
   ]
  },
  {
   "cell_type": "code",
   "execution_count": null,
   "id": "ed2b40bd",
   "metadata": {},
   "outputs": [
    {
     "name": "stdout",
     "output_type": "stream",
     "text": [
      "b\n",
      "a\n"
     ]
    }
   ],
   "source": [
    "%run demo2"
   ]
  },
  {
   "cell_type": "markdown",
   "id": "f193c3e3",
   "metadata": {},
   "source": [
    "## Les classes\n",
    "\n",
    "* Les classes sont les éléments centraux de la programmation orientée objet.\n",
    "* Classe: structure qui sert à représenter un objet et l'ensemble des opérations qui peuvent êtres effectuées sur ce dernier.\n",
    "\n",
    "Dans Python une classe contient des attributs (variables) et des méthodes (fonctions). Elle est définie de manière analogue aux fonctions mais en utilisant le mot clé class. La définition d'une classe contient généralement un certain nombre de méthodes de classe (des fonctions dans la classe).\n",
    "\n",
    "* Le premier argument d'un méthode doit être self: argument obligatoire. Cet objet self est une auto-référence.\n",
    "* Certains noms de méthodes ont un sens particulier, par exemple :  \n",
    "  * __init__: nom de la méthode invoquée à la création de l'objet  \n",
    "  * __str__ : méthode invoquée lorsque une représentation de la classe sous forme de chaîne de caractères est demandée, par exemple quand la classe est passée à print  "
   ]
  },
  {
   "cell_type": "code",
   "execution_count": null,
   "id": "95f4171d",
   "metadata": {},
   "outputs": [],
   "source": [
    "class CoursPython:\n",
    "    \n",
    "    language = 'Python'\n",
    "    \n",
    "    def __init__(self, names, date):\n",
    "        self.names = names\n",
    "        self.date = date\n",
    "        \n",
    "    def show_course(self):\n",
    "        print('%s sont a la formation Python du %s' %\n",
    "              (self.names, self.date))"
   ]
  },
  {
   "cell_type": "code",
   "execution_count": null,
   "id": "ea47c212",
   "metadata": {},
   "outputs": [],
   "source": [
    "cours_python = CoursPython('Patrick, Chantal', '19/10/17')"
   ]
  },
  {
   "cell_type": "code",
   "execution_count": null,
   "id": "36e046cc",
   "metadata": {},
   "outputs": [],
   "source": [
    "cours_python = CoursPython('Patrick, Chantal', '19/10/17')"
   ]
  },
  {
   "cell_type": "code",
   "execution_count": null,
   "id": "ac6ea0bc",
   "metadata": {},
   "outputs": [],
   "source": [
    "cours_python.show_course()"
   ]
  },
  {
   "cell_type": "code",
   "execution_count": null,
   "id": "4f892f74",
   "metadata": {},
   "outputs": [],
   "source": [
    "cours_python.language"
   ]
  },
  {
   "cell_type": "markdown",
   "id": "fa373762",
   "metadata": {},
   "source": [
    "**Attention:** différence entre la définition d'un attribut de la classe et son instantiation à la création de la classe."
   ]
  },
  {
   "cell_type": "code",
   "execution_count": 88,
   "id": "c03ce6cb",
   "metadata": {},
   "outputs": [],
   "source": [
    "# Ce code Python définit une classe appelée A. \n",
    "# La classe A a une ppté appelée foo qui est une liste vide\n",
    "\n",
    "class A:\n",
    "    foo = []\n",
    "\n",
    "class B:\n",
    "    def __init__(self):\n",
    "        self.foo = []"
   ]
  },
  {
   "cell_type": "code",
   "execution_count": 89,
   "id": "4e009816",
   "metadata": {},
   "outputs": [],
   "source": [
    "# Créer un objet de la classe A\n",
    "a = A()\n",
    "\n",
    "b = A()"
   ]
  },
  {
   "cell_type": "code",
   "execution_count": 90,
   "id": "1159e07d",
   "metadata": {},
   "outputs": [
    {
     "data": {
      "text/plain": [
       "[]"
      ]
     },
     "execution_count": 90,
     "metadata": {},
     "output_type": "execute_result"
    }
   ],
   "source": [
    "a.foo"
   ]
  },
  {
   "cell_type": "code",
   "execution_count": 91,
   "id": "0da70691",
   "metadata": {},
   "outputs": [],
   "source": [
    "a.foo.append(4)"
   ]
  },
  {
   "cell_type": "code",
   "execution_count": 92,
   "id": "3afae1f5",
   "metadata": {},
   "outputs": [
    {
     "data": {
      "text/plain": [
       "[4]"
      ]
     },
     "execution_count": 92,
     "metadata": {},
     "output_type": "execute_result"
    }
   ],
   "source": [
    "b.foo"
   ]
  },
  {
   "cell_type": "code",
   "execution_count": 93,
   "id": "7ff4047c",
   "metadata": {},
   "outputs": [],
   "source": [
    "a = B()\n",
    "b = B()"
   ]
  },
  {
   "cell_type": "code",
   "execution_count": 94,
   "id": "946bfce9",
   "metadata": {},
   "outputs": [
    {
     "data": {
      "text/plain": [
       "[4]"
      ]
     },
     "execution_count": 94,
     "metadata": {},
     "output_type": "execute_result"
    }
   ],
   "source": [
    "a.foo.append(4)\n",
    "a.foo"
   ]
  },
  {
   "cell_type": "code",
   "execution_count": 95,
   "id": "86d9de51",
   "metadata": {},
   "outputs": [
    {
     "data": {
      "text/plain": [
       "[]"
      ]
     },
     "execution_count": 95,
     "metadata": {},
     "output_type": "execute_result"
    }
   ],
   "source": [
    "b.foo"
   ]
  },
  {
   "cell_type": "markdown",
   "id": "69262dad",
   "metadata": {},
   "source": [
    "<div style=\"width: 80%; padding: .5em 1.5em;\n",
    "            margin: .5em 2em .5em 2em;\n",
    "            border-radius: 12pt; border-color: black; \n",
    "            border-style: solid;\">\n",
    "    <b style=\"font-variant: small-caps; text-decoration: underline;\">Exercice:</b>\n",
    "    Définir une classe <code>Satellite()</code> qui permette d'instancier des objets simulant des satellites artificiels lancés dans l'espace, autour de la terre. \n",
    "\n",
    "Le constructeur de cette classe initialisera les attributs d'instance suivants, avec les valeurs par défaut indiquées:   \n",
    "* masse = 100 \n",
    "* vitesse = 0  \n",
    "\n",
    "Lorsque l'on instanciera un nouvel objet `Satellite()`, on pourra choisir son nom, sa masse et sa vitesse. \n",
    "\n",
    "Les méthodes suivantes seront définies : \n",
    "* `impulsion(force, duree)` permettra de faire varier la vitesse du satellite. La variation de vitesse \n",
    "${\\displaystyle \\Delta v}$ subie par un objet de masse $m$ soumis à l'action d'une force $F$ pendant un temps $t$ vaut $${\\displaystyle \\Delta v={\\frac {F\\times \\Delta t}{m}}}$$\n",
    "Par exemple : un satellite de 300 kg qui subit une force de 600 Newtons pendant 10 secondes voit sa vitesse augmenter (ou diminuer) de 20 m/s. \n",
    "* `affiche_vitesse()` affichera le nom du satellite et sa vitesse courante. \n",
    "* `energie()` renverra au programme appelant la valeur de l'énergie cinétique du satellite. L'énergie cinétique ${\\displaystyle E_{c}}$ se calcule à l'aide de la formule $${\\displaystyle E_{c}={\\frac {1}{2}}mv^{2}}$$ \n",
    "    \n",
    "La classe pourra être testée avec le programme de test ci-dessous.\n",
    "</div>\n"
   ]
  },
  {
   "cell_type": "code",
   "execution_count": null,
   "id": "811032da",
   "metadata": {},
   "outputs": [],
   "source": [
    "# %load solutions/solution_exo_satellite.py"
   ]
  },
  {
   "cell_type": "code",
   "execution_count": null,
   "id": "8f57b075",
   "metadata": {},
   "outputs": [],
   "source": [
    "# Programme de test :\n",
    "s1 = Satellite('Zoé', masse=250, vitesse=10)\n",
    "s1.impulsion(500, 15)\n",
    "s1.affiche_vitesse()\n",
    "print(s1.energie())\n",
    "assert s1.energie() == 2e5\n",
    "\n",
    "s1.impulsion(500, 15)\n",
    "s1.affiche_vitesse()\n",
    "assert s1.energie() == 6.125e5\n",
    "print(s1.energie())"
   ]
  },
  {
   "cell_type": "code",
   "execution_count": null,
   "id": "c6d23344",
   "metadata": {},
   "outputs": [],
   "source": [
    "class df_apply_on_sample:\n",
    "    '''\n",
    "    Cette classe a pour but de modifier un échantillon aléatoire du dataframe.\n",
    "    '''\n",
    "    def __init__(self, dataset, condition, size, col):\n",
    "        self.dataset = dataset\n",
    "        self.condition = condition\n",
    "        self.size = size\n",
    "        self.col = col\n",
    "    \n",
    "    def __row_condition__(self, dataset, size, col, condition):\n",
    "        selected = dataset.loc[dataset[col]> condition, :]\n",
    "        fraction_selected = selected.sample(frac=size, random_state=42)\n",
    "        fraction_selected[:] = 0\n",
    "        dataset = dataset.update(fraction_selected)\n",
    "        return self.dataset "
   ]
  },
  {
   "cell_type": "markdown",
   "id": "42586cdc",
   "metadata": {},
   "source": [
    "#### Opérations en vrac"
   ]
  },
  {
   "cell_type": "code",
   "execution_count": null,
   "id": "f77abebb",
   "metadata": {},
   "outputs": [],
   "source": [
    "# Remplacer alétoirement des valeurs du dataframe par None"
   ]
  },
  {
   "cell_type": "code",
   "execution_count": null,
   "id": "077609ea",
   "metadata": {},
   "outputs": [],
   "source": [
    "df.where(np.random.uniform(size=df.shape) > 0.3, None)"
   ]
  },
  {
   "cell_type": "markdown",
   "id": "748f4052",
   "metadata": {},
   "source": [
    "**Sélectionner un échantillon (une fraction) de notre DataFrame**"
   ]
  },
  {
   "cell_type": "code",
   "execution_count": null,
   "id": "b3c78228",
   "metadata": {},
   "outputs": [],
   "source": [
    "# Basé sur la fraction du df\n",
    "\n",
    "df.sample(frac=0.7)"
   ]
  },
  {
   "cell_type": "code",
   "execution_count": null,
   "id": "bf6fb96f",
   "metadata": {},
   "outputs": [],
   "source": [
    "# Basé sur le nombre d'observations\n",
    "\n",
    "df.sample(n=3)"
   ]
  },
  {
   "cell_type": "code",
   "execution_count": null,
   "id": "6ef40087",
   "metadata": {},
   "outputs": [],
   "source": [
    "df.sample?"
   ]
  },
  {
   "cell_type": "code",
   "execution_count": null,
   "id": "bd773ca1",
   "metadata": {},
   "outputs": [
    {
     "data": {
      "text/html": [
       "<div>\n",
       "<style scoped>\n",
       "    .dataframe tbody tr th:only-of-type {\n",
       "        vertical-align: middle;\n",
       "    }\n",
       "\n",
       "    .dataframe tbody tr th {\n",
       "        vertical-align: top;\n",
       "    }\n",
       "\n",
       "    .dataframe thead th {\n",
       "        text-align: right;\n",
       "    }\n",
       "</style>\n",
       "<table border=\"1\" class=\"dataframe\">\n",
       "  <thead>\n",
       "    <tr style=\"text-align: right;\">\n",
       "      <th></th>\n",
       "      <th>a</th>\n",
       "      <th>b</th>\n",
       "    </tr>\n",
       "  </thead>\n",
       "  <tbody>\n",
       "    <tr>\n",
       "      <th>1</th>\n",
       "      <td>5</td>\n",
       "      <td>2</td>\n",
       "    </tr>\n",
       "    <tr>\n",
       "      <th>2</th>\n",
       "      <td>4</td>\n",
       "      <td>5</td>\n",
       "    </tr>\n",
       "    <tr>\n",
       "      <th>3</th>\n",
       "      <td>7</td>\n",
       "      <td>8</td>\n",
       "    </tr>\n",
       "    <tr>\n",
       "      <th>4</th>\n",
       "      <td>10</td>\n",
       "      <td>11</td>\n",
       "    </tr>\n",
       "  </tbody>\n",
       "</table>\n",
       "</div>"
      ],
      "text/plain": [
       "    a   b\n",
       "1   5   2\n",
       "2   4   5\n",
       "3   7   8\n",
       "4  10  11"
      ]
     },
     "metadata": {},
     "output_type": "display_data"
    }
   ],
   "source": [
    "df2 = pd.DataFrame(np.array([[5, 2], [4, 5], [7, 8], [10, 11] ]),\n",
    "                   columns = ['a', 'b'] , \n",
    "                   index = [1, 2, 3, 4])\n",
    "df2"
   ]
  },
  {
   "cell_type": "code",
   "execution_count": null,
   "id": "c643a086",
   "metadata": {},
   "outputs": [
    {
     "data": {
      "text/html": [
       "<div>\n",
       "<style scoped>\n",
       "    .dataframe tbody tr th:only-of-type {\n",
       "        vertical-align: middle;\n",
       "    }\n",
       "\n",
       "    .dataframe tbody tr th {\n",
       "        vertical-align: top;\n",
       "    }\n",
       "\n",
       "    .dataframe thead th {\n",
       "        text-align: right;\n",
       "    }\n",
       "</style>\n",
       "<table border=\"1\" class=\"dataframe\">\n",
       "  <thead>\n",
       "    <tr style=\"text-align: right;\">\n",
       "      <th></th>\n",
       "      <th>a</th>\n",
       "      <th>b</th>\n",
       "    </tr>\n",
       "  </thead>\n",
       "  <tbody>\n",
       "    <tr>\n",
       "      <th>0</th>\n",
       "      <td>5</td>\n",
       "      <td>2</td>\n",
       "    </tr>\n",
       "    <tr>\n",
       "      <th>1</th>\n",
       "      <td>4</td>\n",
       "      <td>5</td>\n",
       "    </tr>\n",
       "    <tr>\n",
       "      <th>2</th>\n",
       "      <td>7</td>\n",
       "      <td>8</td>\n",
       "    </tr>\n",
       "    <tr>\n",
       "      <th>3</th>\n",
       "      <td>10</td>\n",
       "      <td>11</td>\n",
       "    </tr>\n",
       "  </tbody>\n",
       "</table>\n",
       "</div>"
      ],
      "text/plain": [
       "    a   b\n",
       "0   5   2\n",
       "1   4   5\n",
       "2   7   8\n",
       "3  10  11"
      ]
     },
     "metadata": {},
     "output_type": "display_data"
    }
   ],
   "source": [
    "# Reset the index of the DataFrame\n",
    "\n",
    "df2 = df2.reset_index(drop=True)\n",
    "df2"
   ]
  },
  {
   "cell_type": "code",
   "execution_count": null,
   "id": "430cbf1f",
   "metadata": {},
   "outputs": [],
   "source": [
    "selected = df2.loc[df2['a']>5,:]\n",
    "selected"
   ]
  },
  {
   "cell_type": "code",
   "execution_count": null,
   "id": "4b7c23fd",
   "metadata": {},
   "outputs": [],
   "source": [
    "fraction_selected = selected.sample(frac=.7, random_state=42)\n",
    "fraction_selected"
   ]
  },
  {
   "cell_type": "code",
   "execution_count": null,
   "id": "f32bc78e",
   "metadata": {},
   "outputs": [],
   "source": [
    "fraction_selected[:] = 0\n",
    "fraction_selected"
   ]
  },
  {
   "cell_type": "code",
   "execution_count": null,
   "id": "6edb6a26",
   "metadata": {},
   "outputs": [],
   "source": [
    "df2.update(fraction_selected)\n",
    "print(df2)"
   ]
  },
  {
   "cell_type": "code",
   "execution_count": null,
   "id": "6371f700",
   "metadata": {},
   "outputs": [
    {
     "name": "stdout",
     "output_type": "stream",
     "text": [
      "   A\n",
      "0  8\n",
      "1  9\n",
      "2  0\n",
      "3  0\n",
      "4  2\n",
      "5  8\n",
      "6  4\n",
      "7  6\n",
      "8  4\n",
      "9  3\n"
     ]
    }
   ],
   "source": [
    "vecteur = np.random.randint(0,10,size=(10, 1))\n",
    "\n",
    "df = pd.DataFrame(vecteur, \n",
    "                  columns=list('A'))\n",
    "print(df)"
   ]
  },
  {
   "cell_type": "code",
   "execution_count": null,
   "id": "ba3804de",
   "metadata": {},
   "outputs": [
    {
     "data": {
      "text/html": [
       "<div>\n",
       "<style scoped>\n",
       "    .dataframe tbody tr th:only-of-type {\n",
       "        vertical-align: middle;\n",
       "    }\n",
       "\n",
       "    .dataframe tbody tr th {\n",
       "        vertical-align: top;\n",
       "    }\n",
       "\n",
       "    .dataframe thead th {\n",
       "        text-align: right;\n",
       "    }\n",
       "</style>\n",
       "<table border=\"1\" class=\"dataframe\">\n",
       "  <thead>\n",
       "    <tr style=\"text-align: right;\">\n",
       "      <th></th>\n",
       "      <th>A</th>\n",
       "    </tr>\n",
       "  </thead>\n",
       "  <tbody>\n",
       "    <tr>\n",
       "      <th>8</th>\n",
       "      <td>4</td>\n",
       "    </tr>\n",
       "    <tr>\n",
       "      <th>1</th>\n",
       "      <td>9</td>\n",
       "    </tr>\n",
       "    <tr>\n",
       "      <th>5</th>\n",
       "      <td>8</td>\n",
       "    </tr>\n",
       "  </tbody>\n",
       "</table>\n",
       "</div>"
      ],
      "text/plain": [
       "   A\n",
       "8  4\n",
       "1  9\n",
       "5  8"
      ]
     },
     "metadata": {},
     "output_type": "display_data"
    }
   ],
   "source": [
    "# Aléa déterministe:\n",
    "# la graine 42 va reproduire toujours le même tirage\n",
    "\n",
    "df.sample(n=3, random_state=42)\n"
   ]
  },
  {
   "cell_type": "code",
   "execution_count": null,
   "id": "d5c3ec11",
   "metadata": {},
   "outputs": [
    {
     "data": {
      "text/html": [
       "<div>\n",
       "<style scoped>\n",
       "    .dataframe tbody tr th:only-of-type {\n",
       "        vertical-align: middle;\n",
       "    }\n",
       "\n",
       "    .dataframe tbody tr th {\n",
       "        vertical-align: top;\n",
       "    }\n",
       "\n",
       "    .dataframe thead th {\n",
       "        text-align: right;\n",
       "    }\n",
       "</style>\n",
       "<table border=\"1\" class=\"dataframe\">\n",
       "  <thead>\n",
       "    <tr style=\"text-align: right;\">\n",
       "      <th></th>\n",
       "      <th>A</th>\n",
       "    </tr>\n",
       "  </thead>\n",
       "  <tbody>\n",
       "    <tr>\n",
       "      <th>1</th>\n",
       "      <td>9</td>\n",
       "    </tr>\n",
       "    <tr>\n",
       "      <th>6</th>\n",
       "      <td>4</td>\n",
       "    </tr>\n",
       "    <tr>\n",
       "      <th>5</th>\n",
       "      <td>8</td>\n",
       "    </tr>\n",
       "  </tbody>\n",
       "</table>\n",
       "</div>"
      ],
      "text/plain": [
       "   A\n",
       "1  9\n",
       "6  4\n",
       "5  8"
      ]
     },
     "metadata": {},
     "output_type": "display_data"
    }
   ],
   "source": [
    "# Aléa:\n",
    "# Sans spécification de random_state, le tirage n'est pas fixé:\n",
    "\n",
    "df.sample(n=3)\n"
   ]
  },
  {
   "cell_type": "markdown",
   "id": "93aa0eee",
   "metadata": {},
   "source": [
    "<div style=\"width: 80%; padding: .5em 1.5em;\n",
    "            margin: .5em 2em .5em 2em;\n",
    "            border-radius: 12pt; border-color: black; \n",
    "            border-style: solid;\">\n",
    "    <b style=\"font-variant: small-caps; text-decoration: underline;\">Exercice:</b>\n",
    "    implémenter quicksort\n",
    "\n",
    "La [page wikipedia](https://en.wikipedia.org/wiki/Quicksort) décrivant l’algorithme de tri quicksort donne le pseudo-code suivant:\n",
    "```\n",
    "function quicksort('array')\n",
    "   if length('array') <= 1\n",
    "        return 'array'\n",
    "   select and remove a pivot value 'pivot' from 'array'\n",
    "   create empty lists 'less' and 'greater'\n",
    "   for each 'x' in 'array'\n",
    "       if 'x' <= 'pivot' then append 'x' to 'less'\n",
    "       else append 'x' to 'greater'\n",
    "   return concatenate(quicksort('less'), 'pivot', quicksort('greater'))\n",
    "```\n",
    "Transformer ce pseudo-code en code valide Python.\n",
    "\n",
    "Des indices:\n",
    "* la longueur d’une liste est donnée par `len(l)`\n",
    "* deux listes peuvent être concaténées avec `l1 + l2`\n",
    "\n",
    "Attention: une liste est mutable...\n",
    "\n",
    "Il vous suffit de compléter l'ébauche ci dessous.\n",
    "    \n",
    "</div>"
   ]
  },
  {
   "cell_type": "code",
   "execution_count": null,
   "id": "7ff91b8a",
   "metadata": {},
   "outputs": [],
   "source": [
    "# %load solutions/solution_exo_quicksort.py\n",
    "def quicksort(ll):\n",
    "    pass\n",
    "\n",
    "quicksort([-2, 3, 5, 1, 3])"
   ]
  },
  {
   "cell_type": "code",
   "execution_count": null,
   "id": "9e6afe7b",
   "metadata": {},
   "outputs": [],
   "source": [
    "test_lists = [\n",
    "    [-2, 3, 5, 1, 3],\n",
    "    [5, 4, 3, 2, 1],\n",
    "    [1, 2, 3, 4],\n",
    "    [],\n",
    "    [1],\n",
    "    [2, 8, 1, 4, 5]\n",
    "]\n",
    "for l in test_lists:\n",
    "    l_sorted = quicksort(l)\n",
    "    assert len(l_sorted) == len(l), (l_sorted, l)\n",
    "    for l1, l2 in zip(l_sorted, sorted(l)):\n",
    "        assert l1 == l2\n",
    "print('success')"
   ]
  },
  {
   "cell_type": "code",
   "execution_count": null,
   "id": "7d4ef22c",
   "metadata": {},
   "outputs": [],
   "source": [
    "df2 = pd.DataFrame(np.array([[5, 2], [4, 5], [7, 8], [10, 11] ]),\n",
    "                   columns=['a', 'b'] , index = [1, 2, 3, 4])\n",
    "df2"
   ]
  },
  {
   "cell_type": "code",
   "execution_count": null,
   "id": "c893821a",
   "metadata": {},
   "outputs": [],
   "source": [
    "df = df_apply_on_sample(dataset=df2,condition=5, size=.7, col='a')"
   ]
  },
  {
   "cell_type": "code",
   "execution_count": null,
   "id": "0d79a93f",
   "metadata": {},
   "outputs": [],
   "source": [
    "df.__row_condition__(dataset=df2, condition=5, size=.7, col='a')"
   ]
  }
 ],
 "metadata": {
  "kernelspec": {
   "display_name": "Python 3 (ipykernel)",
   "language": "python",
   "name": "python3"
  },
  "language_info": {
   "codemirror_mode": {
    "name": "ipython",
    "version": 3
   },
   "file_extension": ".py",
   "mimetype": "text/x-python",
   "name": "python",
   "nbconvert_exporter": "python",
   "pygments_lexer": "ipython3",
   "version": "3.11.7"
  },
  "toc": {
   "base_numbering": 1,
   "nav_menu": {},
   "number_sections": true,
   "sideBar": true,
   "skip_h1_title": false,
   "title_cell": "Table of Contents",
   "title_sidebar": "Contents",
   "toc_cell": false,
   "toc_position": {},
   "toc_section_display": true,
   "toc_window_display": false
  }
 },
 "nbformat": 4,
 "nbformat_minor": 5
}
